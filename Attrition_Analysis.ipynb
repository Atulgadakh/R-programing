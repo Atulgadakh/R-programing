{
  "nbformat": 4,
  "nbformat_minor": 0,
  "metadata": {
    "colab": {
      "provenance": []
    },
    "kernelspec": {
      "name": "ir",
      "display_name": "R"
    },
    "language_info": {
      "name": "R"
    }
  },
  "cells": [
    {
      "cell_type": "markdown",
      "source": [
        "#IBM Employee Attrition Analysis Using R\n"
      ],
      "metadata": {
        "id": "5qXT9bzqNpFr"
      }
    },
    {
      "cell_type": "markdown",
      "source": [
        "# Import Requried Libreries"
      ],
      "metadata": {
        "id": "JJn62pQnTTsl"
      }
    },
    {
      "cell_type": "code",
      "execution_count": 4,
      "metadata": {
        "colab": {
          "base_uri": "https://localhost:8080/"
        },
        "id": "pLwNVaEOi-ag",
        "outputId": "08b166b9-851c-47e3-e165-9ed6112fc0af"
      },
      "outputs": [
        {
          "output_type": "stream",
          "name": "stderr",
          "text": [
            "Installing package into ‘/usr/local/lib/R/site-library’\n",
            "(as ‘lib’ is unspecified)\n",
            "\n",
            "Installing package into ‘/usr/local/lib/R/site-library’\n",
            "(as ‘lib’ is unspecified)\n",
            "\n"
          ]
        }
      ],
      "source": [
        "install.packages(\"ggplot2\")\n",
        "install.packages(\"dplyr\")"
      ]
    },
    {
      "cell_type": "markdown",
      "source": [
        "# Read Data"
      ],
      "metadata": {
        "id": "5Qc8R5MrT2Tj"
      }
    },
    {
      "cell_type": "code",
      "source": [
        "df=read.csv(\"/content/IBM.csv\")"
      ],
      "metadata": {
        "id": "vTelw4OHjYqq"
      },
      "execution_count": 3,
      "outputs": []
    },
    {
      "cell_type": "code",
      "source": [
        "head(df,10)"
      ],
      "metadata": {
        "colab": {
          "base_uri": "https://localhost:8080/",
          "height": 588
        },
        "id": "EF-yWscEjk0V",
        "outputId": "ddc8a002-e7c1-4cf7-e999-2e1f06b6cca7"
      },
      "execution_count": 5,
      "outputs": [
        {
          "output_type": "display_data",
          "data": {
            "text/html": [
              "<table class=\"dataframe\">\n",
              "<caption>A data.frame: 10 × 13</caption>\n",
              "<thead>\n",
              "\t<tr><th></th><th scope=col>Age</th><th scope=col>Attrition</th><th scope=col>Department</th><th scope=col>DistanceFromHome</th><th scope=col>Education</th><th scope=col>EducationField</th><th scope=col>EnvironmentSatisfaction</th><th scope=col>JobSatisfaction</th><th scope=col>MaritalStatus</th><th scope=col>MonthlyIncome</th><th scope=col>NumCompaniesWorked</th><th scope=col>WorkLifeBalance</th><th scope=col>YearsAtCompany</th></tr>\n",
              "\t<tr><th></th><th scope=col>&lt;int&gt;</th><th scope=col>&lt;chr&gt;</th><th scope=col>&lt;chr&gt;</th><th scope=col>&lt;int&gt;</th><th scope=col>&lt;int&gt;</th><th scope=col>&lt;chr&gt;</th><th scope=col>&lt;int&gt;</th><th scope=col>&lt;int&gt;</th><th scope=col>&lt;chr&gt;</th><th scope=col>&lt;int&gt;</th><th scope=col>&lt;int&gt;</th><th scope=col>&lt;int&gt;</th><th scope=col>&lt;int&gt;</th></tr>\n",
              "</thead>\n",
              "<tbody>\n",
              "\t<tr><th scope=row>1</th><td>41</td><td>Yes</td><td>Sales                 </td><td> 1</td><td>2</td><td>Life Sciences</td><td>2</td><td>4</td><td>Single </td><td>5993</td><td>8</td><td>1</td><td> 6</td></tr>\n",
              "\t<tr><th scope=row>2</th><td>49</td><td>No </td><td>Research &amp; Development</td><td> 8</td><td>1</td><td>Life Sciences</td><td>3</td><td>2</td><td>Married</td><td>5130</td><td>1</td><td>3</td><td>10</td></tr>\n",
              "\t<tr><th scope=row>3</th><td>37</td><td>Yes</td><td>Research &amp; Development</td><td>NA</td><td>2</td><td><span style=white-space:pre-wrap>Other        </span></td><td>4</td><td>3</td><td><span style=white-space:pre-wrap>       </span></td><td>2090</td><td>6</td><td>3</td><td> 0</td></tr>\n",
              "\t<tr><th scope=row>4</th><td>NA</td><td><span style=white-space:pre-wrap>   </span></td><td>Research &amp; Development</td><td>NA</td><td>4</td><td>Life Sciences</td><td>4</td><td>3</td><td><span style=white-space:pre-wrap>       </span></td><td>2909</td><td>1</td><td>3</td><td> 8</td></tr>\n",
              "\t<tr><th scope=row>5</th><td>NA</td><td><span style=white-space:pre-wrap>   </span></td><td>Research &amp; Development</td><td>NA</td><td>1</td><td><span style=white-space:pre-wrap>Medical      </span></td><td>1</td><td>2</td><td><span style=white-space:pre-wrap>       </span></td><td>3468</td><td>9</td><td>3</td><td> 2</td></tr>\n",
              "\t<tr><th scope=row>6</th><td>NA</td><td><span style=white-space:pre-wrap>   </span></td><td>Research &amp; Development</td><td>NA</td><td>2</td><td>Life Sciences</td><td>4</td><td>4</td><td><span style=white-space:pre-wrap>       </span></td><td><span style=white-space:pre-wrap>  NA</span></td><td>0</td><td>2</td><td> 7</td></tr>\n",
              "\t<tr><th scope=row>7</th><td>NA</td><td><span style=white-space:pre-wrap>   </span></td><td>Research &amp; Development</td><td>NA</td><td>3</td><td><span style=white-space:pre-wrap>             </span></td><td>3</td><td>1</td><td><span style=white-space:pre-wrap>       </span></td><td><span style=white-space:pre-wrap>  NA</span></td><td>4</td><td>2</td><td> 1</td></tr>\n",
              "\t<tr><th scope=row>8</th><td>NA</td><td><span style=white-space:pre-wrap>   </span></td><td>Research &amp; Development</td><td>NA</td><td>1</td><td><span style=white-space:pre-wrap>             </span></td><td>4</td><td>3</td><td><span style=white-space:pre-wrap>       </span></td><td><span style=white-space:pre-wrap>  NA</span></td><td>1</td><td>3</td><td> 1</td></tr>\n",
              "\t<tr><th scope=row>9</th><td>NA</td><td><span style=white-space:pre-wrap>   </span></td><td>Research &amp; Development</td><td>NA</td><td>3</td><td><span style=white-space:pre-wrap>             </span></td><td>4</td><td>3</td><td><span style=white-space:pre-wrap>       </span></td><td><span style=white-space:pre-wrap>  NA</span></td><td>0</td><td>3</td><td> 9</td></tr>\n",
              "\t<tr><th scope=row>10</th><td>NA</td><td><span style=white-space:pre-wrap>   </span></td><td>Research &amp; Development</td><td>NA</td><td>3</td><td><span style=white-space:pre-wrap>             </span></td><td>3</td><td>3</td><td><span style=white-space:pre-wrap>       </span></td><td><span style=white-space:pre-wrap>  NA</span></td><td>6</td><td>2</td><td> 7</td></tr>\n",
              "</tbody>\n",
              "</table>\n"
            ],
            "text/markdown": "\nA data.frame: 10 × 13\n\n| <!--/--> | Age &lt;int&gt; | Attrition &lt;chr&gt; | Department &lt;chr&gt; | DistanceFromHome &lt;int&gt; | Education &lt;int&gt; | EducationField &lt;chr&gt; | EnvironmentSatisfaction &lt;int&gt; | JobSatisfaction &lt;int&gt; | MaritalStatus &lt;chr&gt; | MonthlyIncome &lt;int&gt; | NumCompaniesWorked &lt;int&gt; | WorkLifeBalance &lt;int&gt; | YearsAtCompany &lt;int&gt; |\n|---|---|---|---|---|---|---|---|---|---|---|---|---|---|\n| 1 | 41 | Yes | Sales                  |  1 | 2 | Life Sciences | 2 | 4 | Single  | 5993 | 8 | 1 |  6 |\n| 2 | 49 | No  | Research &amp; Development |  8 | 1 | Life Sciences | 3 | 2 | Married | 5130 | 1 | 3 | 10 |\n| 3 | 37 | Yes | Research &amp; Development | NA | 2 | Other         | 4 | 3 | <!----> | 2090 | 6 | 3 |  0 |\n| 4 | NA | <!----> | Research &amp; Development | NA | 4 | Life Sciences | 4 | 3 | <!----> | 2909 | 1 | 3 |  8 |\n| 5 | NA | <!----> | Research &amp; Development | NA | 1 | Medical       | 1 | 2 | <!----> | 3468 | 9 | 3 |  2 |\n| 6 | NA | <!----> | Research &amp; Development | NA | 2 | Life Sciences | 4 | 4 | <!----> |   NA | 0 | 2 |  7 |\n| 7 | NA | <!----> | Research &amp; Development | NA | 3 | <!----> | 3 | 1 | <!----> |   NA | 4 | 2 |  1 |\n| 8 | NA | <!----> | Research &amp; Development | NA | 1 | <!----> | 4 | 3 | <!----> |   NA | 1 | 3 |  1 |\n| 9 | NA | <!----> | Research &amp; Development | NA | 3 | <!----> | 4 | 3 | <!----> |   NA | 0 | 3 |  9 |\n| 10 | NA | <!----> | Research &amp; Development | NA | 3 | <!----> | 3 | 3 | <!----> |   NA | 6 | 2 |  7 |\n\n",
            "text/latex": "A data.frame: 10 × 13\n\\begin{tabular}{r|lllllllllllll}\n  & Age & Attrition & Department & DistanceFromHome & Education & EducationField & EnvironmentSatisfaction & JobSatisfaction & MaritalStatus & MonthlyIncome & NumCompaniesWorked & WorkLifeBalance & YearsAtCompany\\\\\n  & <int> & <chr> & <chr> & <int> & <int> & <chr> & <int> & <int> & <chr> & <int> & <int> & <int> & <int>\\\\\n\\hline\n\t1 & 41 & Yes & Sales                  &  1 & 2 & Life Sciences & 2 & 4 & Single  & 5993 & 8 & 1 &  6\\\\\n\t2 & 49 & No  & Research \\& Development &  8 & 1 & Life Sciences & 3 & 2 & Married & 5130 & 1 & 3 & 10\\\\\n\t3 & 37 & Yes & Research \\& Development & NA & 2 & Other         & 4 & 3 &         & 2090 & 6 & 3 &  0\\\\\n\t4 & NA &     & Research \\& Development & NA & 4 & Life Sciences & 4 & 3 &         & 2909 & 1 & 3 &  8\\\\\n\t5 & NA &     & Research \\& Development & NA & 1 & Medical       & 1 & 2 &         & 3468 & 9 & 3 &  2\\\\\n\t6 & NA &     & Research \\& Development & NA & 2 & Life Sciences & 4 & 4 &         &   NA & 0 & 2 &  7\\\\\n\t7 & NA &     & Research \\& Development & NA & 3 &               & 3 & 1 &         &   NA & 4 & 2 &  1\\\\\n\t8 & NA &     & Research \\& Development & NA & 1 &               & 4 & 3 &         &   NA & 1 & 3 &  1\\\\\n\t9 & NA &     & Research \\& Development & NA & 3 &               & 4 & 3 &         &   NA & 0 & 3 &  9\\\\\n\t10 & NA &     & Research \\& Development & NA & 3 &               & 3 & 3 &         &   NA & 6 & 2 &  7\\\\\n\\end{tabular}\n",
            "text/plain": [
              "   Age Attrition Department             DistanceFromHome Education\n",
              "1  41  Yes       Sales                   1               2        \n",
              "2  49  No        Research & Development  8               1        \n",
              "3  37  Yes       Research & Development NA               2        \n",
              "4  NA            Research & Development NA               4        \n",
              "5  NA            Research & Development NA               1        \n",
              "6  NA            Research & Development NA               2        \n",
              "7  NA            Research & Development NA               3        \n",
              "8  NA            Research & Development NA               1        \n",
              "9  NA            Research & Development NA               3        \n",
              "10 NA            Research & Development NA               3        \n",
              "   EducationField EnvironmentSatisfaction JobSatisfaction MaritalStatus\n",
              "1  Life Sciences  2                       4               Single       \n",
              "2  Life Sciences  3                       2               Married      \n",
              "3  Other          4                       3                            \n",
              "4  Life Sciences  4                       3                            \n",
              "5  Medical        1                       2                            \n",
              "6  Life Sciences  4                       4                            \n",
              "7                 3                       1                            \n",
              "8                 4                       3                            \n",
              "9                 4                       3                            \n",
              "10                3                       3                            \n",
              "   MonthlyIncome NumCompaniesWorked WorkLifeBalance YearsAtCompany\n",
              "1  5993          8                  1                6            \n",
              "2  5130          1                  3               10            \n",
              "3  2090          6                  3                0            \n",
              "4  2909          1                  3                8            \n",
              "5  3468          9                  3                2            \n",
              "6    NA          0                  2                7            \n",
              "7    NA          4                  2                1            \n",
              "8    NA          1                  3                1            \n",
              "9    NA          0                  3                9            \n",
              "10   NA          6                  2                7            "
            ]
          },
          "metadata": {}
        }
      ]
    },
    {
      "cell_type": "markdown",
      "source": [
        "#Data Cleaning"
      ],
      "metadata": {
        "id": "S_o3EMGDLkFg"
      }
    },
    {
      "cell_type": "code",
      "source": [
        "head(is.na(df),5)"
      ],
      "metadata": {
        "colab": {
          "base_uri": "https://localhost:8080/",
          "height": 244
        },
        "id": "kT3t53pMlQ_J",
        "outputId": "4b2a67d3-cb1d-4c17-c09a-ed4c88b20f78"
      },
      "execution_count": 95,
      "outputs": [
        {
          "output_type": "display_data",
          "data": {
            "text/html": [
              "<table class=\"dataframe\">\n",
              "<caption>A matrix: 5 × 13 of type lgl</caption>\n",
              "<thead>\n",
              "\t<tr><th></th><th scope=col>Age</th><th scope=col>Attrition</th><th scope=col>Department</th><th scope=col>DistanceFromHome</th><th scope=col>Education</th><th scope=col>EducationField</th><th scope=col>EnvironmentSatisfaction</th><th scope=col>JobSatisfaction</th><th scope=col>MaritalStatus</th><th scope=col>MonthlyIncome</th><th scope=col>NumCompaniesWorked</th><th scope=col>WorkLifeBalance</th><th scope=col>YearsAtCompany</th></tr>\n",
              "</thead>\n",
              "<tbody>\n",
              "\t<tr><th scope=row>1</th><td>FALSE</td><td>FALSE</td><td>FALSE</td><td>FALSE</td><td>FALSE</td><td>FALSE</td><td>FALSE</td><td>FALSE</td><td>FALSE</td><td>FALSE</td><td>FALSE</td><td>FALSE</td><td>FALSE</td></tr>\n",
              "\t<tr><th scope=row>2</th><td>FALSE</td><td>FALSE</td><td>FALSE</td><td>FALSE</td><td>FALSE</td><td>FALSE</td><td>FALSE</td><td>FALSE</td><td>FALSE</td><td>FALSE</td><td>FALSE</td><td>FALSE</td><td>FALSE</td></tr>\n",
              "\t<tr><th scope=row>16</th><td>FALSE</td><td>FALSE</td><td>FALSE</td><td>FALSE</td><td>FALSE</td><td>FALSE</td><td>FALSE</td><td>FALSE</td><td>FALSE</td><td>FALSE</td><td>FALSE</td><td>FALSE</td><td>FALSE</td></tr>\n",
              "\t<tr><th scope=row>17</th><td>FALSE</td><td>FALSE</td><td>FALSE</td><td>FALSE</td><td>FALSE</td><td>FALSE</td><td>FALSE</td><td>FALSE</td><td>FALSE</td><td>FALSE</td><td>FALSE</td><td>FALSE</td><td>FALSE</td></tr>\n",
              "\t<tr><th scope=row>18</th><td>FALSE</td><td>FALSE</td><td>FALSE</td><td>FALSE</td><td>FALSE</td><td>FALSE</td><td>FALSE</td><td>FALSE</td><td>FALSE</td><td>FALSE</td><td>FALSE</td><td>FALSE</td><td>FALSE</td></tr>\n",
              "</tbody>\n",
              "</table>\n"
            ],
            "text/markdown": "\nA matrix: 5 × 13 of type lgl\n\n| <!--/--> | Age | Attrition | Department | DistanceFromHome | Education | EducationField | EnvironmentSatisfaction | JobSatisfaction | MaritalStatus | MonthlyIncome | NumCompaniesWorked | WorkLifeBalance | YearsAtCompany |\n|---|---|---|---|---|---|---|---|---|---|---|---|---|---|\n| 1 | FALSE | FALSE | FALSE | FALSE | FALSE | FALSE | FALSE | FALSE | FALSE | FALSE | FALSE | FALSE | FALSE |\n| 2 | FALSE | FALSE | FALSE | FALSE | FALSE | FALSE | FALSE | FALSE | FALSE | FALSE | FALSE | FALSE | FALSE |\n| 16 | FALSE | FALSE | FALSE | FALSE | FALSE | FALSE | FALSE | FALSE | FALSE | FALSE | FALSE | FALSE | FALSE |\n| 17 | FALSE | FALSE | FALSE | FALSE | FALSE | FALSE | FALSE | FALSE | FALSE | FALSE | FALSE | FALSE | FALSE |\n| 18 | FALSE | FALSE | FALSE | FALSE | FALSE | FALSE | FALSE | FALSE | FALSE | FALSE | FALSE | FALSE | FALSE |\n\n",
            "text/latex": "A matrix: 5 × 13 of type lgl\n\\begin{tabular}{r|lllllllllllll}\n  & Age & Attrition & Department & DistanceFromHome & Education & EducationField & EnvironmentSatisfaction & JobSatisfaction & MaritalStatus & MonthlyIncome & NumCompaniesWorked & WorkLifeBalance & YearsAtCompany\\\\\n\\hline\n\t1 & FALSE & FALSE & FALSE & FALSE & FALSE & FALSE & FALSE & FALSE & FALSE & FALSE & FALSE & FALSE & FALSE\\\\\n\t2 & FALSE & FALSE & FALSE & FALSE & FALSE & FALSE & FALSE & FALSE & FALSE & FALSE & FALSE & FALSE & FALSE\\\\\n\t16 & FALSE & FALSE & FALSE & FALSE & FALSE & FALSE & FALSE & FALSE & FALSE & FALSE & FALSE & FALSE & FALSE\\\\\n\t17 & FALSE & FALSE & FALSE & FALSE & FALSE & FALSE & FALSE & FALSE & FALSE & FALSE & FALSE & FALSE & FALSE\\\\\n\t18 & FALSE & FALSE & FALSE & FALSE & FALSE & FALSE & FALSE & FALSE & FALSE & FALSE & FALSE & FALSE & FALSE\\\\\n\\end{tabular}\n",
            "text/plain": [
              "   Age   Attrition Department DistanceFromHome Education EducationField\n",
              "1  FALSE FALSE     FALSE      FALSE            FALSE     FALSE         \n",
              "2  FALSE FALSE     FALSE      FALSE            FALSE     FALSE         \n",
              "16 FALSE FALSE     FALSE      FALSE            FALSE     FALSE         \n",
              "17 FALSE FALSE     FALSE      FALSE            FALSE     FALSE         \n",
              "18 FALSE FALSE     FALSE      FALSE            FALSE     FALSE         \n",
              "   EnvironmentSatisfaction JobSatisfaction MaritalStatus MonthlyIncome\n",
              "1  FALSE                   FALSE           FALSE         FALSE        \n",
              "2  FALSE                   FALSE           FALSE         FALSE        \n",
              "16 FALSE                   FALSE           FALSE         FALSE        \n",
              "17 FALSE                   FALSE           FALSE         FALSE        \n",
              "18 FALSE                   FALSE           FALSE         FALSE        \n",
              "   NumCompaniesWorked WorkLifeBalance YearsAtCompany\n",
              "1  FALSE              FALSE           FALSE         \n",
              "2  FALSE              FALSE           FALSE         \n",
              "16 FALSE              FALSE           FALSE         \n",
              "17 FALSE              FALSE           FALSE         \n",
              "18 FALSE              FALSE           FALSE         "
            ]
          },
          "metadata": {}
        }
      ]
    },
    {
      "cell_type": "code",
      "source": [
        "sum(is.na(df))"
      ],
      "metadata": {
        "colab": {
          "base_uri": "https://localhost:8080/",
          "height": 34
        },
        "id": "4SUiJVVklVTE",
        "outputId": "a7731289-7b27-46c3-b618-05f71ec5b2e8"
      },
      "execution_count": 9,
      "outputs": [
        {
          "output_type": "display_data",
          "data": {
            "text/html": [
              "27"
            ],
            "text/markdown": "27",
            "text/latex": "27",
            "text/plain": [
              "[1] 27"
            ]
          },
          "metadata": {}
        }
      ]
    },
    {
      "cell_type": "code",
      "source": [
        "Ibm=na.omit(df)"
      ],
      "metadata": {
        "id": "fqPKWdYelmnL"
      },
      "execution_count": 13,
      "outputs": []
    },
    {
      "cell_type": "code",
      "source": [
        "head(Ibm,5)"
      ],
      "metadata": {
        "colab": {
          "base_uri": "https://localhost:8080/",
          "height": 292
        },
        "id": "tcv9DMOZluJN",
        "outputId": "87cb5f62-ae8f-4f13-9804-189cdf953d14"
      },
      "execution_count": 14,
      "outputs": [
        {
          "output_type": "display_data",
          "data": {
            "text/html": [
              "<table class=\"dataframe\">\n",
              "<caption>A data.frame: 5 × 13</caption>\n",
              "<thead>\n",
              "\t<tr><th></th><th scope=col>Age</th><th scope=col>Attrition</th><th scope=col>Department</th><th scope=col>DistanceFromHome</th><th scope=col>Education</th><th scope=col>EducationField</th><th scope=col>EnvironmentSatisfaction</th><th scope=col>JobSatisfaction</th><th scope=col>MaritalStatus</th><th scope=col>MonthlyIncome</th><th scope=col>NumCompaniesWorked</th><th scope=col>WorkLifeBalance</th><th scope=col>YearsAtCompany</th></tr>\n",
              "\t<tr><th></th><th scope=col>&lt;int&gt;</th><th scope=col>&lt;chr&gt;</th><th scope=col>&lt;chr&gt;</th><th scope=col>&lt;int&gt;</th><th scope=col>&lt;int&gt;</th><th scope=col>&lt;chr&gt;</th><th scope=col>&lt;int&gt;</th><th scope=col>&lt;int&gt;</th><th scope=col>&lt;chr&gt;</th><th scope=col>&lt;int&gt;</th><th scope=col>&lt;int&gt;</th><th scope=col>&lt;int&gt;</th><th scope=col>&lt;int&gt;</th></tr>\n",
              "</thead>\n",
              "<tbody>\n",
              "\t<tr><th scope=row>1</th><td>41</td><td>Yes</td><td>Sales                 </td><td> 1</td><td>2</td><td>Life Sciences</td><td>2</td><td>4</td><td>Single  </td><td>5993</td><td>8</td><td>1</td><td> 6</td></tr>\n",
              "\t<tr><th scope=row>2</th><td>49</td><td>No </td><td>Research &amp; Development</td><td> 8</td><td>1</td><td>Life Sciences</td><td>3</td><td>2</td><td>Married </td><td>5130</td><td>1</td><td>3</td><td>10</td></tr>\n",
              "\t<tr><th scope=row>16</th><td>29</td><td>No </td><td>                      </td><td>21</td><td>4</td><td>             </td><td>2</td><td>1</td><td>Divorced</td><td>9980</td><td>1</td><td>3</td><td>10</td></tr>\n",
              "\t<tr><th scope=row>17</th><td>32</td><td>No </td><td>                      </td><td> 5</td><td>2</td><td>             </td><td>1</td><td>2</td><td>Divorced</td><td>3298</td><td>0</td><td>2</td><td> 6</td></tr>\n",
              "\t<tr><th scope=row>18</th><td>22</td><td>No </td><td>                      </td><td>16</td><td>2</td><td>             </td><td>4</td><td>4</td><td>Divorced</td><td>2935</td><td>1</td><td>2</td><td> 1</td></tr>\n",
              "</tbody>\n",
              "</table>\n"
            ],
            "text/markdown": "\nA data.frame: 5 × 13\n\n| <!--/--> | Age &lt;int&gt; | Attrition &lt;chr&gt; | Department &lt;chr&gt; | DistanceFromHome &lt;int&gt; | Education &lt;int&gt; | EducationField &lt;chr&gt; | EnvironmentSatisfaction &lt;int&gt; | JobSatisfaction &lt;int&gt; | MaritalStatus &lt;chr&gt; | MonthlyIncome &lt;int&gt; | NumCompaniesWorked &lt;int&gt; | WorkLifeBalance &lt;int&gt; | YearsAtCompany &lt;int&gt; |\n|---|---|---|---|---|---|---|---|---|---|---|---|---|---|\n| 1 | 41 | Yes | Sales                  |  1 | 2 | Life Sciences | 2 | 4 | Single   | 5993 | 8 | 1 |  6 |\n| 2 | 49 | No  | Research &amp; Development |  8 | 1 | Life Sciences | 3 | 2 | Married  | 5130 | 1 | 3 | 10 |\n| 16 | 29 | No  | <!----> | 21 | 4 | <!----> | 2 | 1 | Divorced | 9980 | 1 | 3 | 10 |\n| 17 | 32 | No  | <!----> |  5 | 2 | <!----> | 1 | 2 | Divorced | 3298 | 0 | 2 |  6 |\n| 18 | 22 | No  | <!----> | 16 | 2 | <!----> | 4 | 4 | Divorced | 2935 | 1 | 2 |  1 |\n\n",
            "text/latex": "A data.frame: 5 × 13\n\\begin{tabular}{r|lllllllllllll}\n  & Age & Attrition & Department & DistanceFromHome & Education & EducationField & EnvironmentSatisfaction & JobSatisfaction & MaritalStatus & MonthlyIncome & NumCompaniesWorked & WorkLifeBalance & YearsAtCompany\\\\\n  & <int> & <chr> & <chr> & <int> & <int> & <chr> & <int> & <int> & <chr> & <int> & <int> & <int> & <int>\\\\\n\\hline\n\t1 & 41 & Yes & Sales                  &  1 & 2 & Life Sciences & 2 & 4 & Single   & 5993 & 8 & 1 &  6\\\\\n\t2 & 49 & No  & Research \\& Development &  8 & 1 & Life Sciences & 3 & 2 & Married  & 5130 & 1 & 3 & 10\\\\\n\t16 & 29 & No  &                        & 21 & 4 &               & 2 & 1 & Divorced & 9980 & 1 & 3 & 10\\\\\n\t17 & 32 & No  &                        &  5 & 2 &               & 1 & 2 & Divorced & 3298 & 0 & 2 &  6\\\\\n\t18 & 22 & No  &                        & 16 & 2 &               & 4 & 4 & Divorced & 2935 & 1 & 2 &  1\\\\\n\\end{tabular}\n",
            "text/plain": [
              "   Age Attrition Department             DistanceFromHome Education\n",
              "1  41  Yes       Sales                   1               2        \n",
              "2  49  No        Research & Development  8               1        \n",
              "16 29  No                               21               4        \n",
              "17 32  No                                5               2        \n",
              "18 22  No                               16               2        \n",
              "   EducationField EnvironmentSatisfaction JobSatisfaction MaritalStatus\n",
              "1  Life Sciences  2                       4               Single       \n",
              "2  Life Sciences  3                       2               Married      \n",
              "16                2                       1               Divorced     \n",
              "17                1                       2               Divorced     \n",
              "18                4                       4               Divorced     \n",
              "   MonthlyIncome NumCompaniesWorked WorkLifeBalance YearsAtCompany\n",
              "1  5993          8                  1                6            \n",
              "2  5130          1                  3               10            \n",
              "16 9980          1                  3               10            \n",
              "17 3298          0                  2                6            \n",
              "18 2935          1                  2                1            "
            ]
          },
          "metadata": {}
        }
      ]
    },
    {
      "cell_type": "code",
      "source": [
        "sum(is.na(Ibm))"
      ],
      "metadata": {
        "colab": {
          "base_uri": "https://localhost:8080/",
          "height": 34
        },
        "id": "mnagShtwl2uP",
        "outputId": "5b307250-c69e-4091-c1f5-1d37a5451561"
      },
      "execution_count": 16,
      "outputs": [
        {
          "output_type": "display_data",
          "data": {
            "text/html": [
              "0"
            ],
            "text/markdown": "0",
            "text/latex": "0",
            "text/plain": [
              "[1] 0"
            ]
          },
          "metadata": {}
        }
      ]
    },
    {
      "cell_type": "code",
      "source": [
        "dim(Ibm)"
      ],
      "metadata": {
        "colab": {
          "base_uri": "https://localhost:8080/",
          "height": 34
        },
        "id": "Rx8QQ2f6VpS1",
        "outputId": "737d9794-3d6f-44ec-d953-a158b31a7d1c"
      },
      "execution_count": 98,
      "outputs": [
        {
          "output_type": "display_data",
          "data": {
            "text/html": [
              "<style>\n",
              ".list-inline {list-style: none; margin:0; padding: 0}\n",
              ".list-inline>li {display: inline-block}\n",
              ".list-inline>li:not(:last-child)::after {content: \"\\00b7\"; padding: 0 .5ex}\n",
              "</style>\n",
              "<ol class=list-inline><li>1457</li><li>13</li></ol>\n"
            ],
            "text/markdown": "1. 1457\n2. 13\n\n\n",
            "text/latex": "\\begin{enumerate*}\n\\item 1457\n\\item 13\n\\end{enumerate*}\n",
            "text/plain": [
              "[1] 1457   13"
            ]
          },
          "metadata": {}
        }
      ]
    },
    {
      "cell_type": "markdown",
      "source": [
        "# EDA(Exploratory Data Analysis)"
      ],
      "metadata": {
        "id": "APAJzHrmUJh5"
      }
    },
    {
      "cell_type": "code",
      "source": [
        "count(Ibm %>% group_by(Attrition))\n"
      ],
      "metadata": {
        "colab": {
          "base_uri": "https://localhost:8080/",
          "height": 161
        },
        "id": "-UVwUO0emQuc",
        "outputId": "4f9b3169-685f-490e-922c-b9c915e62871"
      },
      "execution_count": 22,
      "outputs": [
        {
          "output_type": "display_data",
          "data": {
            "text/html": [
              "<table class=\"dataframe\">\n",
              "<caption>A grouped_df: 2 × 2</caption>\n",
              "<thead>\n",
              "\t<tr><th scope=col>Attrition</th><th scope=col>n</th></tr>\n",
              "\t<tr><th scope=col>&lt;chr&gt;</th><th scope=col>&lt;int&gt;</th></tr>\n",
              "</thead>\n",
              "<tbody>\n",
              "\t<tr><td>No </td><td>1222</td></tr>\n",
              "\t<tr><td>Yes</td><td> 235</td></tr>\n",
              "</tbody>\n",
              "</table>\n"
            ],
            "text/markdown": "\nA grouped_df: 2 × 2\n\n| Attrition &lt;chr&gt; | n &lt;int&gt; |\n|---|---|\n| No  | 1222 |\n| Yes |  235 |\n\n",
            "text/latex": "A grouped\\_df: 2 × 2\n\\begin{tabular}{ll}\n Attrition & n\\\\\n <chr> & <int>\\\\\n\\hline\n\t No  & 1222\\\\\n\t Yes &  235\\\\\n\\end{tabular}\n",
            "text/plain": [
              "  Attrition n   \n",
              "1 No        1222\n",
              "2 Yes        235"
            ]
          },
          "metadata": {}
        }
      ]
    },
    {
      "cell_type": "code",
      "source": [
        "ggplot(data = Ibm,aes(x=Attrition,fill=Attrition)) + geom_bar()"
      ],
      "metadata": {
        "colab": {
          "base_uri": "https://localhost:8080/",
          "height": 437
        },
        "id": "An8SFb3mo2fs",
        "outputId": "9515317d-81f5-49a7-d956-e7d80c713173"
      },
      "execution_count": 25,
      "outputs": [
        {
          "output_type": "display_data",
          "data": {
            "text/plain": [
              "plot without title"
            ],
            "image/png": "[encoded data removed]"
          },
          "metadata": {
            "image/png": {
              "width": 420,
              "height": 420
            }
          }
        }
      ]
    },
    {
      "cell_type": "code",
      "source": [
        "Attrition <- Ibm %>% filter(Attrition == \"Yes\")\n"
      ],
      "metadata": {
        "id": "xwZB2cXcqz3d"
      },
      "execution_count": 29,
      "outputs": []
    },
    {
      "cell_type": "code",
      "source": [
        "head(Attrition,5)"
      ],
      "metadata": {
        "colab": {
          "base_uri": "https://localhost:8080/",
          "height": 327
        },
        "id": "d6GmJLbj1Y9f",
        "outputId": "bcbf2a08-7625-418e-a45e-2aab7cb00b92"
      },
      "execution_count": 30,
      "outputs": [
        {
          "output_type": "display_data",
          "data": {
            "text/html": [
              "<table class=\"dataframe\">\n",
              "<caption>A data.frame: 5 × 13</caption>\n",
              "<thead>\n",
              "\t<tr><th></th><th scope=col>Age</th><th scope=col>Attrition</th><th scope=col>Department</th><th scope=col>DistanceFromHome</th><th scope=col>Education</th><th scope=col>EducationField</th><th scope=col>EnvironmentSatisfaction</th><th scope=col>JobSatisfaction</th><th scope=col>MaritalStatus</th><th scope=col>MonthlyIncome</th><th scope=col>NumCompaniesWorked</th><th scope=col>WorkLifeBalance</th><th scope=col>YearsAtCompany</th></tr>\n",
              "\t<tr><th></th><th scope=col>&lt;int&gt;</th><th scope=col>&lt;chr&gt;</th><th scope=col>&lt;chr&gt;</th><th scope=col>&lt;int&gt;</th><th scope=col>&lt;int&gt;</th><th scope=col>&lt;chr&gt;</th><th scope=col>&lt;int&gt;</th><th scope=col>&lt;int&gt;</th><th scope=col>&lt;chr&gt;</th><th scope=col>&lt;int&gt;</th><th scope=col>&lt;int&gt;</th><th scope=col>&lt;int&gt;</th><th scope=col>&lt;int&gt;</th></tr>\n",
              "</thead>\n",
              "<tbody>\n",
              "\t<tr><th scope=row>1</th><td>41</td><td>Yes</td><td>Sales                 </td><td> 1</td><td>2</td><td>Life Sciences   </td><td>2</td><td>4</td><td>Single </td><td>5993</td><td>8</td><td>1</td><td> 6</td></tr>\n",
              "\t<tr><th scope=row>2</th><td>36</td><td>Yes</td><td>Sales                 </td><td> 9</td><td>4</td><td>Life Sciences   </td><td>3</td><td>1</td><td>Single </td><td>3407</td><td>7</td><td>3</td><td> 5</td></tr>\n",
              "\t<tr><th scope=row>3</th><td>34</td><td>Yes</td><td>Research &amp; Development</td><td> 6</td><td>1</td><td><span style=white-space:pre-wrap>Medical         </span></td><td>2</td><td>1</td><td>Single </td><td>2960</td><td>2</td><td>3</td><td> 4</td></tr>\n",
              "\t<tr><th scope=row>4</th><td>32</td><td>Yes</td><td>Research &amp; Development</td><td>16</td><td>1</td><td><span style=white-space:pre-wrap>Life Sciences   </span></td><td>2</td><td>1</td><td>Single </td><td>3919</td><td>1</td><td>3</td><td>10</td></tr>\n",
              "\t<tr><th scope=row>5</th><td>39</td><td>Yes</td><td>Sales                 </td><td> 5</td><td>3</td><td>Technical Degree</td><td>4</td><td>4</td><td>Married</td><td>2086</td><td>3</td><td>4</td><td> 1</td></tr>\n",
              "</tbody>\n",
              "</table>\n"
            ],
            "text/markdown": "\nA data.frame: 5 × 13\n\n| <!--/--> | Age &lt;int&gt; | Attrition &lt;chr&gt; | Department &lt;chr&gt; | DistanceFromHome &lt;int&gt; | Education &lt;int&gt; | EducationField &lt;chr&gt; | EnvironmentSatisfaction &lt;int&gt; | JobSatisfaction &lt;int&gt; | MaritalStatus &lt;chr&gt; | MonthlyIncome &lt;int&gt; | NumCompaniesWorked &lt;int&gt; | WorkLifeBalance &lt;int&gt; | YearsAtCompany &lt;int&gt; |\n|---|---|---|---|---|---|---|---|---|---|---|---|---|---|\n| 1 | 41 | Yes | Sales                  |  1 | 2 | Life Sciences    | 2 | 4 | Single  | 5993 | 8 | 1 |  6 |\n| 2 | 36 | Yes | Sales                  |  9 | 4 | Life Sciences    | 3 | 1 | Single  | 3407 | 7 | 3 |  5 |\n| 3 | 34 | Yes | Research &amp; Development |  6 | 1 | Medical          | 2 | 1 | Single  | 2960 | 2 | 3 |  4 |\n| 4 | 32 | Yes | Research &amp; Development | 16 | 1 | Life Sciences    | 2 | 1 | Single  | 3919 | 1 | 3 | 10 |\n| 5 | 39 | Yes | Sales                  |  5 | 3 | Technical Degree | 4 | 4 | Married | 2086 | 3 | 4 |  1 |\n\n",
            "text/latex": "A data.frame: 5 × 13\n\\begin{tabular}{r|lllllllllllll}\n  & Age & Attrition & Department & DistanceFromHome & Education & EducationField & EnvironmentSatisfaction & JobSatisfaction & MaritalStatus & MonthlyIncome & NumCompaniesWorked & WorkLifeBalance & YearsAtCompany\\\\\n  & <int> & <chr> & <chr> & <int> & <int> & <chr> & <int> & <int> & <chr> & <int> & <int> & <int> & <int>\\\\\n\\hline\n\t1 & 41 & Yes & Sales                  &  1 & 2 & Life Sciences    & 2 & 4 & Single  & 5993 & 8 & 1 &  6\\\\\n\t2 & 36 & Yes & Sales                  &  9 & 4 & Life Sciences    & 3 & 1 & Single  & 3407 & 7 & 3 &  5\\\\\n\t3 & 34 & Yes & Research \\& Development &  6 & 1 & Medical          & 2 & 1 & Single  & 2960 & 2 & 3 &  4\\\\\n\t4 & 32 & Yes & Research \\& Development & 16 & 1 & Life Sciences    & 2 & 1 & Single  & 3919 & 1 & 3 & 10\\\\\n\t5 & 39 & Yes & Sales                  &  5 & 3 & Technical Degree & 4 & 4 & Married & 2086 & 3 & 4 &  1\\\\\n\\end{tabular}\n",
            "text/plain": [
              "  Age Attrition Department             DistanceFromHome Education\n",
              "1 41  Yes       Sales                   1               2        \n",
              "2 36  Yes       Sales                   9               4        \n",
              "3 34  Yes       Research & Development  6               1        \n",
              "4 32  Yes       Research & Development 16               1        \n",
              "5 39  Yes       Sales                   5               3        \n",
              "  EducationField   EnvironmentSatisfaction JobSatisfaction MaritalStatus\n",
              "1 Life Sciences    2                       4               Single       \n",
              "2 Life Sciences    3                       1               Single       \n",
              "3 Medical          2                       1               Single       \n",
              "4 Life Sciences    2                       1               Single       \n",
              "5 Technical Degree 4                       4               Married      \n",
              "  MonthlyIncome NumCompaniesWorked WorkLifeBalance YearsAtCompany\n",
              "1 5993          8                  1                6            \n",
              "2 3407          7                  3                5            \n",
              "3 2960          2                  3                4            \n",
              "4 3919          1                  3               10            \n",
              "5 2086          3                  4                1            "
            ]
          },
          "metadata": {}
        }
      ]
    },
    {
      "cell_type": "code",
      "source": [
        "head(Ibm,5)"
      ],
      "metadata": {
        "colab": {
          "base_uri": "https://localhost:8080/",
          "height": 292
        },
        "id": "8DCWx6YY2aXj",
        "outputId": "903b6b78-05a0-4f6f-a4a8-b85e268f45b0"
      },
      "execution_count": 31,
      "outputs": [
        {
          "output_type": "display_data",
          "data": {
            "text/html": [
              "<table class=\"dataframe\">\n",
              "<caption>A data.frame: 5 × 13</caption>\n",
              "<thead>\n",
              "\t<tr><th></th><th scope=col>Age</th><th scope=col>Attrition</th><th scope=col>Department</th><th scope=col>DistanceFromHome</th><th scope=col>Education</th><th scope=col>EducationField</th><th scope=col>EnvironmentSatisfaction</th><th scope=col>JobSatisfaction</th><th scope=col>MaritalStatus</th><th scope=col>MonthlyIncome</th><th scope=col>NumCompaniesWorked</th><th scope=col>WorkLifeBalance</th><th scope=col>YearsAtCompany</th></tr>\n",
              "\t<tr><th></th><th scope=col>&lt;int&gt;</th><th scope=col>&lt;chr&gt;</th><th scope=col>&lt;chr&gt;</th><th scope=col>&lt;int&gt;</th><th scope=col>&lt;int&gt;</th><th scope=col>&lt;chr&gt;</th><th scope=col>&lt;int&gt;</th><th scope=col>&lt;int&gt;</th><th scope=col>&lt;chr&gt;</th><th scope=col>&lt;int&gt;</th><th scope=col>&lt;int&gt;</th><th scope=col>&lt;int&gt;</th><th scope=col>&lt;int&gt;</th></tr>\n",
              "</thead>\n",
              "<tbody>\n",
              "\t<tr><th scope=row>1</th><td>41</td><td>Yes</td><td>Sales                 </td><td> 1</td><td>2</td><td>Life Sciences</td><td>2</td><td>4</td><td>Single  </td><td>5993</td><td>8</td><td>1</td><td> 6</td></tr>\n",
              "\t<tr><th scope=row>2</th><td>49</td><td>No </td><td>Research &amp; Development</td><td> 8</td><td>1</td><td>Life Sciences</td><td>3</td><td>2</td><td>Married </td><td>5130</td><td>1</td><td>3</td><td>10</td></tr>\n",
              "\t<tr><th scope=row>16</th><td>29</td><td>No </td><td>                      </td><td>21</td><td>4</td><td>             </td><td>2</td><td>1</td><td>Divorced</td><td>9980</td><td>1</td><td>3</td><td>10</td></tr>\n",
              "\t<tr><th scope=row>17</th><td>32</td><td>No </td><td>                      </td><td> 5</td><td>2</td><td>             </td><td>1</td><td>2</td><td>Divorced</td><td>3298</td><td>0</td><td>2</td><td> 6</td></tr>\n",
              "\t<tr><th scope=row>18</th><td>22</td><td>No </td><td>                      </td><td>16</td><td>2</td><td>             </td><td>4</td><td>4</td><td>Divorced</td><td>2935</td><td>1</td><td>2</td><td> 1</td></tr>\n",
              "</tbody>\n",
              "</table>\n"
            ],
            "text/markdown": "\nA data.frame: 5 × 13\n\n| <!--/--> | Age &lt;int&gt; | Attrition &lt;chr&gt; | Department &lt;chr&gt; | DistanceFromHome &lt;int&gt; | Education &lt;int&gt; | EducationField &lt;chr&gt; | EnvironmentSatisfaction &lt;int&gt; | JobSatisfaction &lt;int&gt; | MaritalStatus &lt;chr&gt; | MonthlyIncome &lt;int&gt; | NumCompaniesWorked &lt;int&gt; | WorkLifeBalance &lt;int&gt; | YearsAtCompany &lt;int&gt; |\n|---|---|---|---|---|---|---|---|---|---|---|---|---|---|\n| 1 | 41 | Yes | Sales                  |  1 | 2 | Life Sciences | 2 | 4 | Single   | 5993 | 8 | 1 |  6 |\n| 2 | 49 | No  | Research &amp; Development |  8 | 1 | Life Sciences | 3 | 2 | Married  | 5130 | 1 | 3 | 10 |\n| 16 | 29 | No  | <!----> | 21 | 4 | <!----> | 2 | 1 | Divorced | 9980 | 1 | 3 | 10 |\n| 17 | 32 | No  | <!----> |  5 | 2 | <!----> | 1 | 2 | Divorced | 3298 | 0 | 2 |  6 |\n| 18 | 22 | No  | <!----> | 16 | 2 | <!----> | 4 | 4 | Divorced | 2935 | 1 | 2 |  1 |\n\n",
            "text/latex": "A data.frame: 5 × 13\n\\begin{tabular}{r|lllllllllllll}\n  & Age & Attrition & Department & DistanceFromHome & Education & EducationField & EnvironmentSatisfaction & JobSatisfaction & MaritalStatus & MonthlyIncome & NumCompaniesWorked & WorkLifeBalance & YearsAtCompany\\\\\n  & <int> & <chr> & <chr> & <int> & <int> & <chr> & <int> & <int> & <chr> & <int> & <int> & <int> & <int>\\\\\n\\hline\n\t1 & 41 & Yes & Sales                  &  1 & 2 & Life Sciences & 2 & 4 & Single   & 5993 & 8 & 1 &  6\\\\\n\t2 & 49 & No  & Research \\& Development &  8 & 1 & Life Sciences & 3 & 2 & Married  & 5130 & 1 & 3 & 10\\\\\n\t16 & 29 & No  &                        & 21 & 4 &               & 2 & 1 & Divorced & 9980 & 1 & 3 & 10\\\\\n\t17 & 32 & No  &                        &  5 & 2 &               & 1 & 2 & Divorced & 3298 & 0 & 2 &  6\\\\\n\t18 & 22 & No  &                        & 16 & 2 &               & 4 & 4 & Divorced & 2935 & 1 & 2 &  1\\\\\n\\end{tabular}\n",
            "text/plain": [
              "   Age Attrition Department             DistanceFromHome Education\n",
              "1  41  Yes       Sales                   1               2        \n",
              "2  49  No        Research & Development  8               1        \n",
              "16 29  No                               21               4        \n",
              "17 32  No                                5               2        \n",
              "18 22  No                               16               2        \n",
              "   EducationField EnvironmentSatisfaction JobSatisfaction MaritalStatus\n",
              "1  Life Sciences  2                       4               Single       \n",
              "2  Life Sciences  3                       2               Married      \n",
              "16                2                       1               Divorced     \n",
              "17                1                       2               Divorced     \n",
              "18                4                       4               Divorced     \n",
              "   MonthlyIncome NumCompaniesWorked WorkLifeBalance YearsAtCompany\n",
              "1  5993          8                  1                6            \n",
              "2  5130          1                  3               10            \n",
              "16 9980          1                  3               10            \n",
              "17 3298          0                  2                6            \n",
              "18 2935          1                  2                1            "
            ]
          },
          "metadata": {}
        }
      ]
    },
    {
      "cell_type": "code",
      "source": [
        "options(repr.plot.width = 9)\n",
        "options(repr.plot.height = 7)\n",
        "ggplot(data = Ibm,aes(x=Department,fill=Department)) + geom_bar()"
      ],
      "metadata": {
        "colab": {
          "base_uri": "https://localhost:8080/",
          "height": 437
        },
        "id": "IMaWvGZS2ho9",
        "outputId": "3dfec157-cfd8-4732-b0d3-8405cec61431"
      },
      "execution_count": 41,
      "outputs": [
        {
          "output_type": "display_data",
          "data": {
            "text/plain": [
              "plot without title"
            ],
            "image/png": "[encoded data removed]"
          },
          "metadata": {
            "image/png": {
              "width": 540,
              "height": 420
            }
          }
        }
      ]
    },
    {
      "cell_type": "code",
      "source": [
        "head(Attrition,5)"
      ],
      "metadata": {
        "colab": {
          "base_uri": "https://localhost:8080/",
          "height": 327
        },
        "id": "GV9auk_D3ITZ",
        "outputId": "1ee1f08c-8a39-4ad6-a590-ef79fe821a15"
      },
      "execution_count": 42,
      "outputs": [
        {
          "output_type": "display_data",
          "data": {
            "text/html": [
              "<table class=\"dataframe\">\n",
              "<caption>A data.frame: 5 × 13</caption>\n",
              "<thead>\n",
              "\t<tr><th></th><th scope=col>Age</th><th scope=col>Attrition</th><th scope=col>Department</th><th scope=col>DistanceFromHome</th><th scope=col>Education</th><th scope=col>EducationField</th><th scope=col>EnvironmentSatisfaction</th><th scope=col>JobSatisfaction</th><th scope=col>MaritalStatus</th><th scope=col>MonthlyIncome</th><th scope=col>NumCompaniesWorked</th><th scope=col>WorkLifeBalance</th><th scope=col>YearsAtCompany</th></tr>\n",
              "\t<tr><th></th><th scope=col>&lt;int&gt;</th><th scope=col>&lt;chr&gt;</th><th scope=col>&lt;chr&gt;</th><th scope=col>&lt;int&gt;</th><th scope=col>&lt;int&gt;</th><th scope=col>&lt;chr&gt;</th><th scope=col>&lt;int&gt;</th><th scope=col>&lt;int&gt;</th><th scope=col>&lt;chr&gt;</th><th scope=col>&lt;int&gt;</th><th scope=col>&lt;int&gt;</th><th scope=col>&lt;int&gt;</th><th scope=col>&lt;int&gt;</th></tr>\n",
              "</thead>\n",
              "<tbody>\n",
              "\t<tr><th scope=row>1</th><td>41</td><td>Yes</td><td>Sales                 </td><td> 1</td><td>2</td><td>Life Sciences   </td><td>2</td><td>4</td><td>Single </td><td>5993</td><td>8</td><td>1</td><td> 6</td></tr>\n",
              "\t<tr><th scope=row>2</th><td>36</td><td>Yes</td><td>Sales                 </td><td> 9</td><td>4</td><td>Life Sciences   </td><td>3</td><td>1</td><td>Single </td><td>3407</td><td>7</td><td>3</td><td> 5</td></tr>\n",
              "\t<tr><th scope=row>3</th><td>34</td><td>Yes</td><td>Research &amp; Development</td><td> 6</td><td>1</td><td><span style=white-space:pre-wrap>Medical         </span></td><td>2</td><td>1</td><td>Single </td><td>2960</td><td>2</td><td>3</td><td> 4</td></tr>\n",
              "\t<tr><th scope=row>4</th><td>32</td><td>Yes</td><td>Research &amp; Development</td><td>16</td><td>1</td><td><span style=white-space:pre-wrap>Life Sciences   </span></td><td>2</td><td>1</td><td>Single </td><td>3919</td><td>1</td><td>3</td><td>10</td></tr>\n",
              "\t<tr><th scope=row>5</th><td>39</td><td>Yes</td><td>Sales                 </td><td> 5</td><td>3</td><td>Technical Degree</td><td>4</td><td>4</td><td>Married</td><td>2086</td><td>3</td><td>4</td><td> 1</td></tr>\n",
              "</tbody>\n",
              "</table>\n"
            ],
            "text/markdown": "\nA data.frame: 5 × 13\n\n| <!--/--> | Age &lt;int&gt; | Attrition &lt;chr&gt; | Department &lt;chr&gt; | DistanceFromHome &lt;int&gt; | Education &lt;int&gt; | EducationField &lt;chr&gt; | EnvironmentSatisfaction &lt;int&gt; | JobSatisfaction &lt;int&gt; | MaritalStatus &lt;chr&gt; | MonthlyIncome &lt;int&gt; | NumCompaniesWorked &lt;int&gt; | WorkLifeBalance &lt;int&gt; | YearsAtCompany &lt;int&gt; |\n|---|---|---|---|---|---|---|---|---|---|---|---|---|---|\n| 1 | 41 | Yes | Sales                  |  1 | 2 | Life Sciences    | 2 | 4 | Single  | 5993 | 8 | 1 |  6 |\n| 2 | 36 | Yes | Sales                  |  9 | 4 | Life Sciences    | 3 | 1 | Single  | 3407 | 7 | 3 |  5 |\n| 3 | 34 | Yes | Research &amp; Development |  6 | 1 | Medical          | 2 | 1 | Single  | 2960 | 2 | 3 |  4 |\n| 4 | 32 | Yes | Research &amp; Development | 16 | 1 | Life Sciences    | 2 | 1 | Single  | 3919 | 1 | 3 | 10 |\n| 5 | 39 | Yes | Sales                  |  5 | 3 | Technical Degree | 4 | 4 | Married | 2086 | 3 | 4 |  1 |\n\n",
            "text/latex": "A data.frame: 5 × 13\n\\begin{tabular}{r|lllllllllllll}\n  & Age & Attrition & Department & DistanceFromHome & Education & EducationField & EnvironmentSatisfaction & JobSatisfaction & MaritalStatus & MonthlyIncome & NumCompaniesWorked & WorkLifeBalance & YearsAtCompany\\\\\n  & <int> & <chr> & <chr> & <int> & <int> & <chr> & <int> & <int> & <chr> & <int> & <int> & <int> & <int>\\\\\n\\hline\n\t1 & 41 & Yes & Sales                  &  1 & 2 & Life Sciences    & 2 & 4 & Single  & 5993 & 8 & 1 &  6\\\\\n\t2 & 36 & Yes & Sales                  &  9 & 4 & Life Sciences    & 3 & 1 & Single  & 3407 & 7 & 3 &  5\\\\\n\t3 & 34 & Yes & Research \\& Development &  6 & 1 & Medical          & 2 & 1 & Single  & 2960 & 2 & 3 &  4\\\\\n\t4 & 32 & Yes & Research \\& Development & 16 & 1 & Life Sciences    & 2 & 1 & Single  & 3919 & 1 & 3 & 10\\\\\n\t5 & 39 & Yes & Sales                  &  5 & 3 & Technical Degree & 4 & 4 & Married & 2086 & 3 & 4 &  1\\\\\n\\end{tabular}\n",
            "text/plain": [
              "  Age Attrition Department             DistanceFromHome Education\n",
              "1 41  Yes       Sales                   1               2        \n",
              "2 36  Yes       Sales                   9               4        \n",
              "3 34  Yes       Research & Development  6               1        \n",
              "4 32  Yes       Research & Development 16               1        \n",
              "5 39  Yes       Sales                   5               3        \n",
              "  EducationField   EnvironmentSatisfaction JobSatisfaction MaritalStatus\n",
              "1 Life Sciences    2                       4               Single       \n",
              "2 Life Sciences    3                       1               Single       \n",
              "3 Medical          2                       1               Single       \n",
              "4 Life Sciences    2                       1               Single       \n",
              "5 Technical Degree 4                       4               Married      \n",
              "  MonthlyIncome NumCompaniesWorked WorkLifeBalance YearsAtCompany\n",
              "1 5993          8                  1                6            \n",
              "2 3407          7                  3                5            \n",
              "3 2960          2                  3                4            \n",
              "4 3919          1                  3               10            \n",
              "5 2086          3                  4                1            "
            ]
          },
          "metadata": {}
        }
      ]
    },
    {
      "cell_type": "code",
      "source": [
        "head(Attrition %>% group_by(EducationField),5)"
      ],
      "metadata": {
        "colab": {
          "base_uri": "https://localhost:8080/",
          "height": 327
        },
        "id": "q1BUDmHA4JwF",
        "outputId": "de7925e6-07ac-4ffb-b129-bbaa7ce27cf5"
      },
      "execution_count": 52,
      "outputs": [
        {
          "output_type": "display_data",
          "data": {
            "text/html": [
              "<table class=\"dataframe\">\n",
              "<caption>A grouped_df: 5 × 13</caption>\n",
              "<thead>\n",
              "\t<tr><th scope=col>Age</th><th scope=col>Attrition</th><th scope=col>Department</th><th scope=col>DistanceFromHome</th><th scope=col>Education</th><th scope=col>EducationField</th><th scope=col>EnvironmentSatisfaction</th><th scope=col>JobSatisfaction</th><th scope=col>MaritalStatus</th><th scope=col>MonthlyIncome</th><th scope=col>NumCompaniesWorked</th><th scope=col>WorkLifeBalance</th><th scope=col>YearsAtCompany</th></tr>\n",
              "\t<tr><th scope=col>&lt;int&gt;</th><th scope=col>&lt;chr&gt;</th><th scope=col>&lt;chr&gt;</th><th scope=col>&lt;int&gt;</th><th scope=col>&lt;int&gt;</th><th scope=col>&lt;chr&gt;</th><th scope=col>&lt;int&gt;</th><th scope=col>&lt;int&gt;</th><th scope=col>&lt;chr&gt;</th><th scope=col>&lt;int&gt;</th><th scope=col>&lt;int&gt;</th><th scope=col>&lt;int&gt;</th><th scope=col>&lt;int&gt;</th></tr>\n",
              "</thead>\n",
              "<tbody>\n",
              "\t<tr><td>41</td><td>Yes</td><td>Sales                 </td><td> 1</td><td>2</td><td>Life Sciences   </td><td>2</td><td>4</td><td>Single </td><td>5993</td><td>8</td><td>1</td><td> 6</td></tr>\n",
              "\t<tr><td>36</td><td>Yes</td><td>Sales                 </td><td> 9</td><td>4</td><td>Life Sciences   </td><td>3</td><td>1</td><td>Single </td><td>3407</td><td>7</td><td>3</td><td> 5</td></tr>\n",
              "\t<tr><td>34</td><td>Yes</td><td>Research &amp; Development</td><td> 6</td><td>1</td><td><span style=white-space:pre-wrap>Medical         </span></td><td>2</td><td>1</td><td>Single </td><td>2960</td><td>2</td><td>3</td><td> 4</td></tr>\n",
              "\t<tr><td>32</td><td>Yes</td><td>Research &amp; Development</td><td>16</td><td>1</td><td><span style=white-space:pre-wrap>Life Sciences   </span></td><td>2</td><td>1</td><td>Single </td><td>3919</td><td>1</td><td>3</td><td>10</td></tr>\n",
              "\t<tr><td>39</td><td>Yes</td><td>Sales                 </td><td> 5</td><td>3</td><td>Technical Degree</td><td>4</td><td>4</td><td>Married</td><td>2086</td><td>3</td><td>4</td><td> 1</td></tr>\n",
              "</tbody>\n",
              "</table>\n"
            ],
            "text/markdown": "\nA grouped_df: 5 × 13\n\n| Age &lt;int&gt; | Attrition &lt;chr&gt; | Department &lt;chr&gt; | DistanceFromHome &lt;int&gt; | Education &lt;int&gt; | EducationField &lt;chr&gt; | EnvironmentSatisfaction &lt;int&gt; | JobSatisfaction &lt;int&gt; | MaritalStatus &lt;chr&gt; | MonthlyIncome &lt;int&gt; | NumCompaniesWorked &lt;int&gt; | WorkLifeBalance &lt;int&gt; | YearsAtCompany &lt;int&gt; |\n|---|---|---|---|---|---|---|---|---|---|---|---|---|\n| 41 | Yes | Sales                  |  1 | 2 | Life Sciences    | 2 | 4 | Single  | 5993 | 8 | 1 |  6 |\n| 36 | Yes | Sales                  |  9 | 4 | Life Sciences    | 3 | 1 | Single  | 3407 | 7 | 3 |  5 |\n| 34 | Yes | Research &amp; Development |  6 | 1 | Medical          | 2 | 1 | Single  | 2960 | 2 | 3 |  4 |\n| 32 | Yes | Research &amp; Development | 16 | 1 | Life Sciences    | 2 | 1 | Single  | 3919 | 1 | 3 | 10 |\n| 39 | Yes | Sales                  |  5 | 3 | Technical Degree | 4 | 4 | Married | 2086 | 3 | 4 |  1 |\n\n",
            "text/latex": "A grouped\\_df: 5 × 13\n\\begin{tabular}{lllllllllllll}\n Age & Attrition & Department & DistanceFromHome & Education & EducationField & EnvironmentSatisfaction & JobSatisfaction & MaritalStatus & MonthlyIncome & NumCompaniesWorked & WorkLifeBalance & YearsAtCompany\\\\\n <int> & <chr> & <chr> & <int> & <int> & <chr> & <int> & <int> & <chr> & <int> & <int> & <int> & <int>\\\\\n\\hline\n\t 41 & Yes & Sales                  &  1 & 2 & Life Sciences    & 2 & 4 & Single  & 5993 & 8 & 1 &  6\\\\\n\t 36 & Yes & Sales                  &  9 & 4 & Life Sciences    & 3 & 1 & Single  & 3407 & 7 & 3 &  5\\\\\n\t 34 & Yes & Research \\& Development &  6 & 1 & Medical          & 2 & 1 & Single  & 2960 & 2 & 3 &  4\\\\\n\t 32 & Yes & Research \\& Development & 16 & 1 & Life Sciences    & 2 & 1 & Single  & 3919 & 1 & 3 & 10\\\\\n\t 39 & Yes & Sales                  &  5 & 3 & Technical Degree & 4 & 4 & Married & 2086 & 3 & 4 &  1\\\\\n\\end{tabular}\n",
            "text/plain": [
              "  Age Attrition Department             DistanceFromHome Education\n",
              "1 41  Yes       Sales                   1               2        \n",
              "2 36  Yes       Sales                   9               4        \n",
              "3 34  Yes       Research & Development  6               1        \n",
              "4 32  Yes       Research & Development 16               1        \n",
              "5 39  Yes       Sales                   5               3        \n",
              "  EducationField   EnvironmentSatisfaction JobSatisfaction MaritalStatus\n",
              "1 Life Sciences    2                       4               Single       \n",
              "2 Life Sciences    3                       1               Single       \n",
              "3 Medical          2                       1               Single       \n",
              "4 Life Sciences    2                       1               Single       \n",
              "5 Technical Degree 4                       4               Married      \n",
              "  MonthlyIncome NumCompaniesWorked WorkLifeBalance YearsAtCompany\n",
              "1 5993          8                  1                6            \n",
              "2 3407          7                  3                5            \n",
              "3 2960          2                  3                4            \n",
              "4 3919          1                  3               10            \n",
              "5 2086          3                  4                1            "
            ]
          },
          "metadata": {}
        }
      ]
    },
    {
      "cell_type": "code",
      "source": [
        "head(count(Attrition %>% group_by(Age)),5)"
      ],
      "metadata": {
        "colab": {
          "base_uri": "https://localhost:8080/",
          "height": 272
        },
        "id": "6XMioaDG4aZ9",
        "outputId": "e86302fd-fe08-4dab-854a-80cc7167b0ec"
      },
      "execution_count": 46,
      "outputs": [
        {
          "output_type": "display_data",
          "data": {
            "text/html": [
              "<table class=\"dataframe\">\n",
              "<caption>A grouped_df: 5 × 2</caption>\n",
              "<thead>\n",
              "\t<tr><th scope=col>Age</th><th scope=col>n</th></tr>\n",
              "\t<tr><th scope=col>&lt;int&gt;</th><th scope=col>&lt;int&gt;</th></tr>\n",
              "</thead>\n",
              "<tbody>\n",
              "\t<tr><td>18</td><td>4</td></tr>\n",
              "\t<tr><td>19</td><td>6</td></tr>\n",
              "\t<tr><td>20</td><td>6</td></tr>\n",
              "\t<tr><td>21</td><td>6</td></tr>\n",
              "\t<tr><td>22</td><td>5</td></tr>\n",
              "</tbody>\n",
              "</table>\n"
            ],
            "text/markdown": "\nA grouped_df: 5 × 2\n\n| Age &lt;int&gt; | n &lt;int&gt; |\n|---|---|\n| 18 | 4 |\n| 19 | 6 |\n| 20 | 6 |\n| 21 | 6 |\n| 22 | 5 |\n\n",
            "text/latex": "A grouped\\_df: 5 × 2\n\\begin{tabular}{ll}\n Age & n\\\\\n <int> & <int>\\\\\n\\hline\n\t 18 & 4\\\\\n\t 19 & 6\\\\\n\t 20 & 6\\\\\n\t 21 & 6\\\\\n\t 22 & 5\\\\\n\\end{tabular}\n",
            "text/plain": [
              "  Age n\n",
              "1 18  4\n",
              "2 19  6\n",
              "3 20  6\n",
              "4 21  6\n",
              "5 22  5"
            ]
          },
          "metadata": {}
        }
      ]
    },
    {
      "cell_type": "code",
      "source": [
        "options(repr.plot.width = 12)\n",
        "ggplot(data = Attrition,aes(x=Age,)) + geom_histogram(fill=\"orange\")"
      ],
      "metadata": {
        "colab": {
          "base_uri": "https://localhost:8080/",
          "height": 454
        },
        "id": "apllo3Re5Y-G",
        "outputId": "36c5e942-09e0-4ebb-c493-ac0fca477679"
      },
      "execution_count": 53,
      "outputs": [
        {
          "output_type": "stream",
          "name": "stderr",
          "text": [
            "\u001b[1m\u001b[22m`stat_bin()` using `bins = 30`. Pick better value with `binwidth`.\n"
          ]
        },
        {
          "output_type": "display_data",
          "data": {
            "text/plain": [
              "plot without title"
            ],
            "image/png": "[encoded data removed]"
          },
          "metadata": {
            "image/png": {
              "width": 720,
              "height": 420
            }
          }
        }
      ]
    },
    {
      "cell_type": "code",
      "source": [
        "head(Ibm,5)"
      ],
      "metadata": {
        "colab": {
          "base_uri": "https://localhost:8080/",
          "height": 292
        },
        "id": "lvwPAezs6pgE",
        "outputId": "eb465a99-2544-4adc-e906-01f18c85cb51"
      },
      "execution_count": 55,
      "outputs": [
        {
          "output_type": "display_data",
          "data": {
            "text/html": [
              "<table class=\"dataframe\">\n",
              "<caption>A data.frame: 5 × 13</caption>\n",
              "<thead>\n",
              "\t<tr><th></th><th scope=col>Age</th><th scope=col>Attrition</th><th scope=col>Department</th><th scope=col>DistanceFromHome</th><th scope=col>Education</th><th scope=col>EducationField</th><th scope=col>EnvironmentSatisfaction</th><th scope=col>JobSatisfaction</th><th scope=col>MaritalStatus</th><th scope=col>MonthlyIncome</th><th scope=col>NumCompaniesWorked</th><th scope=col>WorkLifeBalance</th><th scope=col>YearsAtCompany</th></tr>\n",
              "\t<tr><th></th><th scope=col>&lt;int&gt;</th><th scope=col>&lt;chr&gt;</th><th scope=col>&lt;chr&gt;</th><th scope=col>&lt;int&gt;</th><th scope=col>&lt;int&gt;</th><th scope=col>&lt;chr&gt;</th><th scope=col>&lt;int&gt;</th><th scope=col>&lt;int&gt;</th><th scope=col>&lt;chr&gt;</th><th scope=col>&lt;int&gt;</th><th scope=col>&lt;int&gt;</th><th scope=col>&lt;int&gt;</th><th scope=col>&lt;int&gt;</th></tr>\n",
              "</thead>\n",
              "<tbody>\n",
              "\t<tr><th scope=row>1</th><td>41</td><td>Yes</td><td>Sales                 </td><td> 1</td><td>2</td><td>Life Sciences</td><td>2</td><td>4</td><td>Single  </td><td>5993</td><td>8</td><td>1</td><td> 6</td></tr>\n",
              "\t<tr><th scope=row>2</th><td>49</td><td>No </td><td>Research &amp; Development</td><td> 8</td><td>1</td><td>Life Sciences</td><td>3</td><td>2</td><td>Married </td><td>5130</td><td>1</td><td>3</td><td>10</td></tr>\n",
              "\t<tr><th scope=row>16</th><td>29</td><td>No </td><td>                      </td><td>21</td><td>4</td><td>             </td><td>2</td><td>1</td><td>Divorced</td><td>9980</td><td>1</td><td>3</td><td>10</td></tr>\n",
              "\t<tr><th scope=row>17</th><td>32</td><td>No </td><td>                      </td><td> 5</td><td>2</td><td>             </td><td>1</td><td>2</td><td>Divorced</td><td>3298</td><td>0</td><td>2</td><td> 6</td></tr>\n",
              "\t<tr><th scope=row>18</th><td>22</td><td>No </td><td>                      </td><td>16</td><td>2</td><td>             </td><td>4</td><td>4</td><td>Divorced</td><td>2935</td><td>1</td><td>2</td><td> 1</td></tr>\n",
              "</tbody>\n",
              "</table>\n"
            ],
            "text/markdown": "\nA data.frame: 5 × 13\n\n| <!--/--> | Age &lt;int&gt; | Attrition &lt;chr&gt; | Department &lt;chr&gt; | DistanceFromHome &lt;int&gt; | Education &lt;int&gt; | EducationField &lt;chr&gt; | EnvironmentSatisfaction &lt;int&gt; | JobSatisfaction &lt;int&gt; | MaritalStatus &lt;chr&gt; | MonthlyIncome &lt;int&gt; | NumCompaniesWorked &lt;int&gt; | WorkLifeBalance &lt;int&gt; | YearsAtCompany &lt;int&gt; |\n|---|---|---|---|---|---|---|---|---|---|---|---|---|---|\n| 1 | 41 | Yes | Sales                  |  1 | 2 | Life Sciences | 2 | 4 | Single   | 5993 | 8 | 1 |  6 |\n| 2 | 49 | No  | Research &amp; Development |  8 | 1 | Life Sciences | 3 | 2 | Married  | 5130 | 1 | 3 | 10 |\n| 16 | 29 | No  | <!----> | 21 | 4 | <!----> | 2 | 1 | Divorced | 9980 | 1 | 3 | 10 |\n| 17 | 32 | No  | <!----> |  5 | 2 | <!----> | 1 | 2 | Divorced | 3298 | 0 | 2 |  6 |\n| 18 | 22 | No  | <!----> | 16 | 2 | <!----> | 4 | 4 | Divorced | 2935 | 1 | 2 |  1 |\n\n",
            "text/latex": "A data.frame: 5 × 13\n\\begin{tabular}{r|lllllllllllll}\n  & Age & Attrition & Department & DistanceFromHome & Education & EducationField & EnvironmentSatisfaction & JobSatisfaction & MaritalStatus & MonthlyIncome & NumCompaniesWorked & WorkLifeBalance & YearsAtCompany\\\\\n  & <int> & <chr> & <chr> & <int> & <int> & <chr> & <int> & <int> & <chr> & <int> & <int> & <int> & <int>\\\\\n\\hline\n\t1 & 41 & Yes & Sales                  &  1 & 2 & Life Sciences & 2 & 4 & Single   & 5993 & 8 & 1 &  6\\\\\n\t2 & 49 & No  & Research \\& Development &  8 & 1 & Life Sciences & 3 & 2 & Married  & 5130 & 1 & 3 & 10\\\\\n\t16 & 29 & No  &                        & 21 & 4 &               & 2 & 1 & Divorced & 9980 & 1 & 3 & 10\\\\\n\t17 & 32 & No  &                        &  5 & 2 &               & 1 & 2 & Divorced & 3298 & 0 & 2 &  6\\\\\n\t18 & 22 & No  &                        & 16 & 2 &               & 4 & 4 & Divorced & 2935 & 1 & 2 &  1\\\\\n\\end{tabular}\n",
            "text/plain": [
              "   Age Attrition Department             DistanceFromHome Education\n",
              "1  41  Yes       Sales                   1               2        \n",
              "2  49  No        Research & Development  8               1        \n",
              "16 29  No                               21               4        \n",
              "17 32  No                                5               2        \n",
              "18 22  No                               16               2        \n",
              "   EducationField EnvironmentSatisfaction JobSatisfaction MaritalStatus\n",
              "1  Life Sciences  2                       4               Single       \n",
              "2  Life Sciences  3                       2               Married      \n",
              "16                2                       1               Divorced     \n",
              "17                1                       2               Divorced     \n",
              "18                4                       4               Divorced     \n",
              "   MonthlyIncome NumCompaniesWorked WorkLifeBalance YearsAtCompany\n",
              "1  5993          8                  1                6            \n",
              "2  5130          1                  3               10            \n",
              "16 9980          1                  3               10            \n",
              "17 3298          0                  2                6            \n",
              "18 2935          1                  2                1            "
            ]
          },
          "metadata": {}
        }
      ]
    },
    {
      "cell_type": "code",
      "source": [
        "ggplot(data = Ibm,aes(x=Department,fill=Attrition)) + geom_bar()"
      ],
      "metadata": {
        "colab": {
          "base_uri": "https://localhost:8080/",
          "height": 437
        },
        "id": "ODaamOAC8MaO",
        "outputId": "e8a5cd3b-0ec4-415f-8942-ccb5571be4a2"
      },
      "execution_count": 60,
      "outputs": [
        {
          "output_type": "display_data",
          "data": {
            "text/plain": [
              "plot without title"
            ],
            "image/png": "[encoded data removed]"
          },
          "metadata": {
            "image/png": {
              "width": 720,
              "height": 420
            }
          }
        }
      ]
    },
    {
      "cell_type": "code",
      "source": [
        "head(Attrition,5)"
      ],
      "metadata": {
        "colab": {
          "base_uri": "https://localhost:8080/",
          "height": 327
        },
        "id": "-MIcgtxG9Aj8",
        "outputId": "73744daa-fe6d-4a92-b97c-578b26479571"
      },
      "execution_count": 61,
      "outputs": [
        {
          "output_type": "display_data",
          "data": {
            "text/html": [
              "<table class=\"dataframe\">\n",
              "<caption>A data.frame: 5 × 13</caption>\n",
              "<thead>\n",
              "\t<tr><th></th><th scope=col>Age</th><th scope=col>Attrition</th><th scope=col>Department</th><th scope=col>DistanceFromHome</th><th scope=col>Education</th><th scope=col>EducationField</th><th scope=col>EnvironmentSatisfaction</th><th scope=col>JobSatisfaction</th><th scope=col>MaritalStatus</th><th scope=col>MonthlyIncome</th><th scope=col>NumCompaniesWorked</th><th scope=col>WorkLifeBalance</th><th scope=col>YearsAtCompany</th></tr>\n",
              "\t<tr><th></th><th scope=col>&lt;int&gt;</th><th scope=col>&lt;chr&gt;</th><th scope=col>&lt;chr&gt;</th><th scope=col>&lt;int&gt;</th><th scope=col>&lt;int&gt;</th><th scope=col>&lt;chr&gt;</th><th scope=col>&lt;int&gt;</th><th scope=col>&lt;int&gt;</th><th scope=col>&lt;chr&gt;</th><th scope=col>&lt;int&gt;</th><th scope=col>&lt;int&gt;</th><th scope=col>&lt;int&gt;</th><th scope=col>&lt;int&gt;</th></tr>\n",
              "</thead>\n",
              "<tbody>\n",
              "\t<tr><th scope=row>1</th><td>41</td><td>Yes</td><td>Sales                 </td><td> 1</td><td>2</td><td>Life Sciences   </td><td>2</td><td>4</td><td>Single </td><td>5993</td><td>8</td><td>1</td><td> 6</td></tr>\n",
              "\t<tr><th scope=row>2</th><td>36</td><td>Yes</td><td>Sales                 </td><td> 9</td><td>4</td><td>Life Sciences   </td><td>3</td><td>1</td><td>Single </td><td>3407</td><td>7</td><td>3</td><td> 5</td></tr>\n",
              "\t<tr><th scope=row>3</th><td>34</td><td>Yes</td><td>Research &amp; Development</td><td> 6</td><td>1</td><td><span style=white-space:pre-wrap>Medical         </span></td><td>2</td><td>1</td><td>Single </td><td>2960</td><td>2</td><td>3</td><td> 4</td></tr>\n",
              "\t<tr><th scope=row>4</th><td>32</td><td>Yes</td><td>Research &amp; Development</td><td>16</td><td>1</td><td><span style=white-space:pre-wrap>Life Sciences   </span></td><td>2</td><td>1</td><td>Single </td><td>3919</td><td>1</td><td>3</td><td>10</td></tr>\n",
              "\t<tr><th scope=row>5</th><td>39</td><td>Yes</td><td>Sales                 </td><td> 5</td><td>3</td><td>Technical Degree</td><td>4</td><td>4</td><td>Married</td><td>2086</td><td>3</td><td>4</td><td> 1</td></tr>\n",
              "</tbody>\n",
              "</table>\n"
            ],
            "text/markdown": "\nA data.frame: 5 × 13\n\n| <!--/--> | Age &lt;int&gt; | Attrition &lt;chr&gt; | Department &lt;chr&gt; | DistanceFromHome &lt;int&gt; | Education &lt;int&gt; | EducationField &lt;chr&gt; | EnvironmentSatisfaction &lt;int&gt; | JobSatisfaction &lt;int&gt; | MaritalStatus &lt;chr&gt; | MonthlyIncome &lt;int&gt; | NumCompaniesWorked &lt;int&gt; | WorkLifeBalance &lt;int&gt; | YearsAtCompany &lt;int&gt; |\n|---|---|---|---|---|---|---|---|---|---|---|---|---|---|\n| 1 | 41 | Yes | Sales                  |  1 | 2 | Life Sciences    | 2 | 4 | Single  | 5993 | 8 | 1 |  6 |\n| 2 | 36 | Yes | Sales                  |  9 | 4 | Life Sciences    | 3 | 1 | Single  | 3407 | 7 | 3 |  5 |\n| 3 | 34 | Yes | Research &amp; Development |  6 | 1 | Medical          | 2 | 1 | Single  | 2960 | 2 | 3 |  4 |\n| 4 | 32 | Yes | Research &amp; Development | 16 | 1 | Life Sciences    | 2 | 1 | Single  | 3919 | 1 | 3 | 10 |\n| 5 | 39 | Yes | Sales                  |  5 | 3 | Technical Degree | 4 | 4 | Married | 2086 | 3 | 4 |  1 |\n\n",
            "text/latex": "A data.frame: 5 × 13\n\\begin{tabular}{r|lllllllllllll}\n  & Age & Attrition & Department & DistanceFromHome & Education & EducationField & EnvironmentSatisfaction & JobSatisfaction & MaritalStatus & MonthlyIncome & NumCompaniesWorked & WorkLifeBalance & YearsAtCompany\\\\\n  & <int> & <chr> & <chr> & <int> & <int> & <chr> & <int> & <int> & <chr> & <int> & <int> & <int> & <int>\\\\\n\\hline\n\t1 & 41 & Yes & Sales                  &  1 & 2 & Life Sciences    & 2 & 4 & Single  & 5993 & 8 & 1 &  6\\\\\n\t2 & 36 & Yes & Sales                  &  9 & 4 & Life Sciences    & 3 & 1 & Single  & 3407 & 7 & 3 &  5\\\\\n\t3 & 34 & Yes & Research \\& Development &  6 & 1 & Medical          & 2 & 1 & Single  & 2960 & 2 & 3 &  4\\\\\n\t4 & 32 & Yes & Research \\& Development & 16 & 1 & Life Sciences    & 2 & 1 & Single  & 3919 & 1 & 3 & 10\\\\\n\t5 & 39 & Yes & Sales                  &  5 & 3 & Technical Degree & 4 & 4 & Married & 2086 & 3 & 4 &  1\\\\\n\\end{tabular}\n",
            "text/plain": [
              "  Age Attrition Department             DistanceFromHome Education\n",
              "1 41  Yes       Sales                   1               2        \n",
              "2 36  Yes       Sales                   9               4        \n",
              "3 34  Yes       Research & Development  6               1        \n",
              "4 32  Yes       Research & Development 16               1        \n",
              "5 39  Yes       Sales                   5               3        \n",
              "  EducationField   EnvironmentSatisfaction JobSatisfaction MaritalStatus\n",
              "1 Life Sciences    2                       4               Single       \n",
              "2 Life Sciences    3                       1               Single       \n",
              "3 Medical          2                       1               Single       \n",
              "4 Life Sciences    2                       1               Single       \n",
              "5 Technical Degree 4                       4               Married      \n",
              "  MonthlyIncome NumCompaniesWorked WorkLifeBalance YearsAtCompany\n",
              "1 5993          8                  1                6            \n",
              "2 3407          7                  3                5            \n",
              "3 2960          2                  3                4            \n",
              "4 3919          1                  3               10            \n",
              "5 2086          3                  4                1            "
            ]
          },
          "metadata": {}
        }
      ]
    },
    {
      "cell_type": "code",
      "source": [
        "count(Attrition %>% group_by(EducationField) %>% arrange(desc(EducationField)))"
      ],
      "metadata": {
        "colab": {
          "base_uri": "https://localhost:8080/",
          "height": 286
        },
        "id": "w7dODRmw-Q4J",
        "outputId": "4da6c3dc-78ac-4af6-8713-9d63f9870774"
      },
      "execution_count": 75,
      "outputs": [
        {
          "output_type": "display_data",
          "data": {
            "text/html": [
              "<table class=\"dataframe\">\n",
              "<caption>A grouped_df: 6 × 2</caption>\n",
              "<thead>\n",
              "\t<tr><th scope=col>EducationField</th><th scope=col>n</th></tr>\n",
              "\t<tr><th scope=col>&lt;chr&gt;</th><th scope=col>&lt;int&gt;</th></tr>\n",
              "</thead>\n",
              "<tbody>\n",
              "\t<tr><td>Human Resources </td><td> 7</td></tr>\n",
              "\t<tr><td>Life Sciences   </td><td>88</td></tr>\n",
              "\t<tr><td>Marketing       </td><td>35</td></tr>\n",
              "\t<tr><td>Medical         </td><td>63</td></tr>\n",
              "\t<tr><td>Other           </td><td>10</td></tr>\n",
              "\t<tr><td>Technical Degree</td><td>32</td></tr>\n",
              "</tbody>\n",
              "</table>\n"
            ],
            "text/markdown": "\nA grouped_df: 6 × 2\n\n| EducationField &lt;chr&gt; | n &lt;int&gt; |\n|---|---|\n| Human Resources  |  7 |\n| Life Sciences    | 88 |\n| Marketing        | 35 |\n| Medical          | 63 |\n| Other            | 10 |\n| Technical Degree | 32 |\n\n",
            "text/latex": "A grouped\\_df: 6 × 2\n\\begin{tabular}{ll}\n EducationField & n\\\\\n <chr> & <int>\\\\\n\\hline\n\t Human Resources  &  7\\\\\n\t Life Sciences    & 88\\\\\n\t Marketing        & 35\\\\\n\t Medical          & 63\\\\\n\t Other            & 10\\\\\n\t Technical Degree & 32\\\\\n\\end{tabular}\n",
            "text/plain": [
              "  EducationField   n \n",
              "1 Human Resources   7\n",
              "2 Life Sciences    88\n",
              "3 Marketing        35\n",
              "4 Medical          63\n",
              "5 Other            10\n",
              "6 Technical Degree 32"
            ]
          },
          "metadata": {}
        }
      ]
    },
    {
      "cell_type": "code",
      "source": [
        "head(Ibm,5)\n"
      ],
      "metadata": {
        "colab": {
          "base_uri": "https://localhost:8080/",
          "height": 292
        },
        "id": "0g4LFqMl-gEY",
        "outputId": "9048389b-51b1-4bb4-faac-e8f82913fc47"
      },
      "execution_count": 76,
      "outputs": [
        {
          "output_type": "display_data",
          "data": {
            "text/html": [
              "<table class=\"dataframe\">\n",
              "<caption>A data.frame: 5 × 13</caption>\n",
              "<thead>\n",
              "\t<tr><th></th><th scope=col>Age</th><th scope=col>Attrition</th><th scope=col>Department</th><th scope=col>DistanceFromHome</th><th scope=col>Education</th><th scope=col>EducationField</th><th scope=col>EnvironmentSatisfaction</th><th scope=col>JobSatisfaction</th><th scope=col>MaritalStatus</th><th scope=col>MonthlyIncome</th><th scope=col>NumCompaniesWorked</th><th scope=col>WorkLifeBalance</th><th scope=col>YearsAtCompany</th></tr>\n",
              "\t<tr><th></th><th scope=col>&lt;int&gt;</th><th scope=col>&lt;chr&gt;</th><th scope=col>&lt;chr&gt;</th><th scope=col>&lt;int&gt;</th><th scope=col>&lt;int&gt;</th><th scope=col>&lt;chr&gt;</th><th scope=col>&lt;int&gt;</th><th scope=col>&lt;int&gt;</th><th scope=col>&lt;chr&gt;</th><th scope=col>&lt;int&gt;</th><th scope=col>&lt;int&gt;</th><th scope=col>&lt;int&gt;</th><th scope=col>&lt;int&gt;</th></tr>\n",
              "</thead>\n",
              "<tbody>\n",
              "\t<tr><th scope=row>1</th><td>41</td><td>Yes</td><td>Sales                 </td><td> 1</td><td>2</td><td>Life Sciences</td><td>2</td><td>4</td><td>Single  </td><td>5993</td><td>8</td><td>1</td><td> 6</td></tr>\n",
              "\t<tr><th scope=row>2</th><td>49</td><td>No </td><td>Research &amp; Development</td><td> 8</td><td>1</td><td>Life Sciences</td><td>3</td><td>2</td><td>Married </td><td>5130</td><td>1</td><td>3</td><td>10</td></tr>\n",
              "\t<tr><th scope=row>16</th><td>29</td><td>No </td><td>                      </td><td>21</td><td>4</td><td>             </td><td>2</td><td>1</td><td>Divorced</td><td>9980</td><td>1</td><td>3</td><td>10</td></tr>\n",
              "\t<tr><th scope=row>17</th><td>32</td><td>No </td><td>                      </td><td> 5</td><td>2</td><td>             </td><td>1</td><td>2</td><td>Divorced</td><td>3298</td><td>0</td><td>2</td><td> 6</td></tr>\n",
              "\t<tr><th scope=row>18</th><td>22</td><td>No </td><td>                      </td><td>16</td><td>2</td><td>             </td><td>4</td><td>4</td><td>Divorced</td><td>2935</td><td>1</td><td>2</td><td> 1</td></tr>\n",
              "</tbody>\n",
              "</table>\n"
            ],
            "text/markdown": "\nA data.frame: 5 × 13\n\n| <!--/--> | Age &lt;int&gt; | Attrition &lt;chr&gt; | Department &lt;chr&gt; | DistanceFromHome &lt;int&gt; | Education &lt;int&gt; | EducationField &lt;chr&gt; | EnvironmentSatisfaction &lt;int&gt; | JobSatisfaction &lt;int&gt; | MaritalStatus &lt;chr&gt; | MonthlyIncome &lt;int&gt; | NumCompaniesWorked &lt;int&gt; | WorkLifeBalance &lt;int&gt; | YearsAtCompany &lt;int&gt; |\n|---|---|---|---|---|---|---|---|---|---|---|---|---|---|\n| 1 | 41 | Yes | Sales                  |  1 | 2 | Life Sciences | 2 | 4 | Single   | 5993 | 8 | 1 |  6 |\n| 2 | 49 | No  | Research &amp; Development |  8 | 1 | Life Sciences | 3 | 2 | Married  | 5130 | 1 | 3 | 10 |\n| 16 | 29 | No  | <!----> | 21 | 4 | <!----> | 2 | 1 | Divorced | 9980 | 1 | 3 | 10 |\n| 17 | 32 | No  | <!----> |  5 | 2 | <!----> | 1 | 2 | Divorced | 3298 | 0 | 2 |  6 |\n| 18 | 22 | No  | <!----> | 16 | 2 | <!----> | 4 | 4 | Divorced | 2935 | 1 | 2 |  1 |\n\n",
            "text/latex": "A data.frame: 5 × 13\n\\begin{tabular}{r|lllllllllllll}\n  & Age & Attrition & Department & DistanceFromHome & Education & EducationField & EnvironmentSatisfaction & JobSatisfaction & MaritalStatus & MonthlyIncome & NumCompaniesWorked & WorkLifeBalance & YearsAtCompany\\\\\n  & <int> & <chr> & <chr> & <int> & <int> & <chr> & <int> & <int> & <chr> & <int> & <int> & <int> & <int>\\\\\n\\hline\n\t1 & 41 & Yes & Sales                  &  1 & 2 & Life Sciences & 2 & 4 & Single   & 5993 & 8 & 1 &  6\\\\\n\t2 & 49 & No  & Research \\& Development &  8 & 1 & Life Sciences & 3 & 2 & Married  & 5130 & 1 & 3 & 10\\\\\n\t16 & 29 & No  &                        & 21 & 4 &               & 2 & 1 & Divorced & 9980 & 1 & 3 & 10\\\\\n\t17 & 32 & No  &                        &  5 & 2 &               & 1 & 2 & Divorced & 3298 & 0 & 2 &  6\\\\\n\t18 & 22 & No  &                        & 16 & 2 &               & 4 & 4 & Divorced & 2935 & 1 & 2 &  1\\\\\n\\end{tabular}\n",
            "text/plain": [
              "   Age Attrition Department             DistanceFromHome Education\n",
              "1  41  Yes       Sales                   1               2        \n",
              "2  49  No        Research & Development  8               1        \n",
              "16 29  No                               21               4        \n",
              "17 32  No                                5               2        \n",
              "18 22  No                               16               2        \n",
              "   EducationField EnvironmentSatisfaction JobSatisfaction MaritalStatus\n",
              "1  Life Sciences  2                       4               Single       \n",
              "2  Life Sciences  3                       2               Married      \n",
              "16                2                       1               Divorced     \n",
              "17                1                       2               Divorced     \n",
              "18                4                       4               Divorced     \n",
              "   MonthlyIncome NumCompaniesWorked WorkLifeBalance YearsAtCompany\n",
              "1  5993          8                  1                6            \n",
              "2  5130          1                  3               10            \n",
              "16 9980          1                  3               10            \n",
              "17 3298          0                  2                6            \n",
              "18 2935          1                  2                1            "
            ]
          },
          "metadata": {}
        }
      ]
    },
    {
      "cell_type": "code",
      "source": [
        "options(repr.plot.height = 10)\n",
        "ggplot(data = Ibm,aes(x=Department,y=MonthlyIncome)) + geom_boxplot(fill=\"orange\")"
      ],
      "metadata": {
        "colab": {
          "base_uri": "https://localhost:8080/",
          "height": 617
        },
        "id": "qzDF3217_UZ3",
        "outputId": "f1a19775-a4eb-44ed-dd75-466bc39df668"
      },
      "execution_count": 83,
      "outputs": [
        {
          "output_type": "display_data",
          "data": {
            "text/plain": [
              "plot without title"
            ],
            "image/png": "[encoded data removed]"
          },
          "metadata": {
            "image/png": {
              "width": 720,
              "height": 600
            }
          }
        }
      ]
    },
    {
      "cell_type": "code",
      "source": [
        "head(Ibm,5)"
      ],
      "metadata": {
        "colab": {
          "base_uri": "https://localhost:8080/",
          "height": 292
        },
        "id": "bRJBf4gJFfvH",
        "outputId": "77f74d3b-6c40-4ee9-ad7e-ccbc91a1e1e9"
      },
      "execution_count": 85,
      "outputs": [
        {
          "output_type": "display_data",
          "data": {
            "text/html": [
              "<table class=\"dataframe\">\n",
              "<caption>A data.frame: 5 × 13</caption>\n",
              "<thead>\n",
              "\t<tr><th></th><th scope=col>Age</th><th scope=col>Attrition</th><th scope=col>Department</th><th scope=col>DistanceFromHome</th><th scope=col>Education</th><th scope=col>EducationField</th><th scope=col>EnvironmentSatisfaction</th><th scope=col>JobSatisfaction</th><th scope=col>MaritalStatus</th><th scope=col>MonthlyIncome</th><th scope=col>NumCompaniesWorked</th><th scope=col>WorkLifeBalance</th><th scope=col>YearsAtCompany</th></tr>\n",
              "\t<tr><th></th><th scope=col>&lt;int&gt;</th><th scope=col>&lt;chr&gt;</th><th scope=col>&lt;chr&gt;</th><th scope=col>&lt;int&gt;</th><th scope=col>&lt;int&gt;</th><th scope=col>&lt;chr&gt;</th><th scope=col>&lt;int&gt;</th><th scope=col>&lt;int&gt;</th><th scope=col>&lt;chr&gt;</th><th scope=col>&lt;int&gt;</th><th scope=col>&lt;int&gt;</th><th scope=col>&lt;int&gt;</th><th scope=col>&lt;int&gt;</th></tr>\n",
              "</thead>\n",
              "<tbody>\n",
              "\t<tr><th scope=row>1</th><td>41</td><td>Yes</td><td>Sales                 </td><td> 1</td><td>2</td><td>Life Sciences</td><td>2</td><td>4</td><td>Single  </td><td>5993</td><td>8</td><td>1</td><td> 6</td></tr>\n",
              "\t<tr><th scope=row>2</th><td>49</td><td>No </td><td>Research &amp; Development</td><td> 8</td><td>1</td><td>Life Sciences</td><td>3</td><td>2</td><td>Married </td><td>5130</td><td>1</td><td>3</td><td>10</td></tr>\n",
              "\t<tr><th scope=row>16</th><td>29</td><td>No </td><td>                      </td><td>21</td><td>4</td><td>             </td><td>2</td><td>1</td><td>Divorced</td><td>9980</td><td>1</td><td>3</td><td>10</td></tr>\n",
              "\t<tr><th scope=row>17</th><td>32</td><td>No </td><td>                      </td><td> 5</td><td>2</td><td>             </td><td>1</td><td>2</td><td>Divorced</td><td>3298</td><td>0</td><td>2</td><td> 6</td></tr>\n",
              "\t<tr><th scope=row>18</th><td>22</td><td>No </td><td>                      </td><td>16</td><td>2</td><td>             </td><td>4</td><td>4</td><td>Divorced</td><td>2935</td><td>1</td><td>2</td><td> 1</td></tr>\n",
              "</tbody>\n",
              "</table>\n"
            ],
            "text/markdown": "\nA data.frame: 5 × 13\n\n| <!--/--> | Age &lt;int&gt; | Attrition &lt;chr&gt; | Department &lt;chr&gt; | DistanceFromHome &lt;int&gt; | Education &lt;int&gt; | EducationField &lt;chr&gt; | EnvironmentSatisfaction &lt;int&gt; | JobSatisfaction &lt;int&gt; | MaritalStatus &lt;chr&gt; | MonthlyIncome &lt;int&gt; | NumCompaniesWorked &lt;int&gt; | WorkLifeBalance &lt;int&gt; | YearsAtCompany &lt;int&gt; |\n|---|---|---|---|---|---|---|---|---|---|---|---|---|---|\n| 1 | 41 | Yes | Sales                  |  1 | 2 | Life Sciences | 2 | 4 | Single   | 5993 | 8 | 1 |  6 |\n| 2 | 49 | No  | Research &amp; Development |  8 | 1 | Life Sciences | 3 | 2 | Married  | 5130 | 1 | 3 | 10 |\n| 16 | 29 | No  | <!----> | 21 | 4 | <!----> | 2 | 1 | Divorced | 9980 | 1 | 3 | 10 |\n| 17 | 32 | No  | <!----> |  5 | 2 | <!----> | 1 | 2 | Divorced | 3298 | 0 | 2 |  6 |\n| 18 | 22 | No  | <!----> | 16 | 2 | <!----> | 4 | 4 | Divorced | 2935 | 1 | 2 |  1 |\n\n",
            "text/latex": "A data.frame: 5 × 13\n\\begin{tabular}{r|lllllllllllll}\n  & Age & Attrition & Department & DistanceFromHome & Education & EducationField & EnvironmentSatisfaction & JobSatisfaction & MaritalStatus & MonthlyIncome & NumCompaniesWorked & WorkLifeBalance & YearsAtCompany\\\\\n  & <int> & <chr> & <chr> & <int> & <int> & <chr> & <int> & <int> & <chr> & <int> & <int> & <int> & <int>\\\\\n\\hline\n\t1 & 41 & Yes & Sales                  &  1 & 2 & Life Sciences & 2 & 4 & Single   & 5993 & 8 & 1 &  6\\\\\n\t2 & 49 & No  & Research \\& Development &  8 & 1 & Life Sciences & 3 & 2 & Married  & 5130 & 1 & 3 & 10\\\\\n\t16 & 29 & No  &                        & 21 & 4 &               & 2 & 1 & Divorced & 9980 & 1 & 3 & 10\\\\\n\t17 & 32 & No  &                        &  5 & 2 &               & 1 & 2 & Divorced & 3298 & 0 & 2 &  6\\\\\n\t18 & 22 & No  &                        & 16 & 2 &               & 4 & 4 & Divorced & 2935 & 1 & 2 &  1\\\\\n\\end{tabular}\n",
            "text/plain": [
              "   Age Attrition Department             DistanceFromHome Education\n",
              "1  41  Yes       Sales                   1               2        \n",
              "2  49  No        Research & Development  8               1        \n",
              "16 29  No                               21               4        \n",
              "17 32  No                                5               2        \n",
              "18 22  No                               16               2        \n",
              "   EducationField EnvironmentSatisfaction JobSatisfaction MaritalStatus\n",
              "1  Life Sciences  2                       4               Single       \n",
              "2  Life Sciences  3                       2               Married      \n",
              "16                2                       1               Divorced     \n",
              "17                1                       2               Divorced     \n",
              "18                4                       4               Divorced     \n",
              "   MonthlyIncome NumCompaniesWorked WorkLifeBalance YearsAtCompany\n",
              "1  5993          8                  1                6            \n",
              "2  5130          1                  3               10            \n",
              "16 9980          1                  3               10            \n",
              "17 3298          0                  2                6            \n",
              "18 2935          1                  2                1            "
            ]
          },
          "metadata": {}
        }
      ]
    },
    {
      "cell_type": "code",
      "source": [
        "ggplot(data=Ibm,aes(x=YearsAtCompany,fill=Attrition)) + geom_histogram() + scale_fill_manual(values = c(\"orange\", \"yellow\"))"
      ],
      "metadata": {
        "colab": {
          "base_uri": "https://localhost:8080/",
          "height": 634
        },
        "id": "bKG3VCLfId9K",
        "outputId": "38456eac-0398-4fa4-d585-d82b206ea032"
      },
      "execution_count": 94,
      "outputs": [
        {
          "output_type": "stream",
          "name": "stderr",
          "text": [
            "\u001b[1m\u001b[22m`stat_bin()` using `bins = 30`. Pick better value with `binwidth`.\n"
          ]
        },
        {
          "output_type": "display_data",
          "data": {
            "text/plain": [
              "plot without title"
            ],
            "image/png": "[encoded data removed]"
          },
          "metadata": {
            "image/png": {
              "width": 720,
              "height": 600
            }
          }
        }
      ]
    },
    {
      "cell_type": "code",
      "source": [
        "head(Ibm,5)"
      ],
      "metadata": {
        "colab": {
          "base_uri": "https://localhost:8080/",
          "height": 292
        },
        "id": "_rLrELS0Iwvh",
        "outputId": "4e5c824d-3e05-4f67-de72-7c9066caf9b7"
      },
      "execution_count": 96,
      "outputs": [
        {
          "output_type": "display_data",
          "data": {
            "text/html": [
              "<table class=\"dataframe\">\n",
              "<caption>A data.frame: 5 × 13</caption>\n",
              "<thead>\n",
              "\t<tr><th></th><th scope=col>Age</th><th scope=col>Attrition</th><th scope=col>Department</th><th scope=col>DistanceFromHome</th><th scope=col>Education</th><th scope=col>EducationField</th><th scope=col>EnvironmentSatisfaction</th><th scope=col>JobSatisfaction</th><th scope=col>MaritalStatus</th><th scope=col>MonthlyIncome</th><th scope=col>NumCompaniesWorked</th><th scope=col>WorkLifeBalance</th><th scope=col>YearsAtCompany</th></tr>\n",
              "\t<tr><th></th><th scope=col>&lt;int&gt;</th><th scope=col>&lt;chr&gt;</th><th scope=col>&lt;chr&gt;</th><th scope=col>&lt;int&gt;</th><th scope=col>&lt;int&gt;</th><th scope=col>&lt;chr&gt;</th><th scope=col>&lt;int&gt;</th><th scope=col>&lt;int&gt;</th><th scope=col>&lt;chr&gt;</th><th scope=col>&lt;int&gt;</th><th scope=col>&lt;int&gt;</th><th scope=col>&lt;int&gt;</th><th scope=col>&lt;int&gt;</th></tr>\n",
              "</thead>\n",
              "<tbody>\n",
              "\t<tr><th scope=row>1</th><td>41</td><td>Yes</td><td>Sales                 </td><td> 1</td><td>2</td><td>Life Sciences</td><td>2</td><td>4</td><td>Single  </td><td>5993</td><td>8</td><td>1</td><td> 6</td></tr>\n",
              "\t<tr><th scope=row>2</th><td>49</td><td>No </td><td>Research &amp; Development</td><td> 8</td><td>1</td><td>Life Sciences</td><td>3</td><td>2</td><td>Married </td><td>5130</td><td>1</td><td>3</td><td>10</td></tr>\n",
              "\t<tr><th scope=row>16</th><td>29</td><td>No </td><td>                      </td><td>21</td><td>4</td><td>             </td><td>2</td><td>1</td><td>Divorced</td><td>9980</td><td>1</td><td>3</td><td>10</td></tr>\n",
              "\t<tr><th scope=row>17</th><td>32</td><td>No </td><td>                      </td><td> 5</td><td>2</td><td>             </td><td>1</td><td>2</td><td>Divorced</td><td>3298</td><td>0</td><td>2</td><td> 6</td></tr>\n",
              "\t<tr><th scope=row>18</th><td>22</td><td>No </td><td>                      </td><td>16</td><td>2</td><td>             </td><td>4</td><td>4</td><td>Divorced</td><td>2935</td><td>1</td><td>2</td><td> 1</td></tr>\n",
              "</tbody>\n",
              "</table>\n"
            ],
            "text/markdown": "\nA data.frame: 5 × 13\n\n| <!--/--> | Age &lt;int&gt; | Attrition &lt;chr&gt; | Department &lt;chr&gt; | DistanceFromHome &lt;int&gt; | Education &lt;int&gt; | EducationField &lt;chr&gt; | EnvironmentSatisfaction &lt;int&gt; | JobSatisfaction &lt;int&gt; | MaritalStatus &lt;chr&gt; | MonthlyIncome &lt;int&gt; | NumCompaniesWorked &lt;int&gt; | WorkLifeBalance &lt;int&gt; | YearsAtCompany &lt;int&gt; |\n|---|---|---|---|---|---|---|---|---|---|---|---|---|---|\n| 1 | 41 | Yes | Sales                  |  1 | 2 | Life Sciences | 2 | 4 | Single   | 5993 | 8 | 1 |  6 |\n| 2 | 49 | No  | Research &amp; Development |  8 | 1 | Life Sciences | 3 | 2 | Married  | 5130 | 1 | 3 | 10 |\n| 16 | 29 | No  | <!----> | 21 | 4 | <!----> | 2 | 1 | Divorced | 9980 | 1 | 3 | 10 |\n| 17 | 32 | No  | <!----> |  5 | 2 | <!----> | 1 | 2 | Divorced | 3298 | 0 | 2 |  6 |\n| 18 | 22 | No  | <!----> | 16 | 2 | <!----> | 4 | 4 | Divorced | 2935 | 1 | 2 |  1 |\n\n",
            "text/latex": "A data.frame: 5 × 13\n\\begin{tabular}{r|lllllllllllll}\n  & Age & Attrition & Department & DistanceFromHome & Education & EducationField & EnvironmentSatisfaction & JobSatisfaction & MaritalStatus & MonthlyIncome & NumCompaniesWorked & WorkLifeBalance & YearsAtCompany\\\\\n  & <int> & <chr> & <chr> & <int> & <int> & <chr> & <int> & <int> & <chr> & <int> & <int> & <int> & <int>\\\\\n\\hline\n\t1 & 41 & Yes & Sales                  &  1 & 2 & Life Sciences & 2 & 4 & Single   & 5993 & 8 & 1 &  6\\\\\n\t2 & 49 & No  & Research \\& Development &  8 & 1 & Life Sciences & 3 & 2 & Married  & 5130 & 1 & 3 & 10\\\\\n\t16 & 29 & No  &                        & 21 & 4 &               & 2 & 1 & Divorced & 9980 & 1 & 3 & 10\\\\\n\t17 & 32 & No  &                        &  5 & 2 &               & 1 & 2 & Divorced & 3298 & 0 & 2 &  6\\\\\n\t18 & 22 & No  &                        & 16 & 2 &               & 4 & 4 & Divorced & 2935 & 1 & 2 &  1\\\\\n\\end{tabular}\n",
            "text/plain": [
              "   Age Attrition Department             DistanceFromHome Education\n",
              "1  41  Yes       Sales                   1               2        \n",
              "2  49  No        Research & Development  8               1        \n",
              "16 29  No                               21               4        \n",
              "17 32  No                                5               2        \n",
              "18 22  No                               16               2        \n",
              "   EducationField EnvironmentSatisfaction JobSatisfaction MaritalStatus\n",
              "1  Life Sciences  2                       4               Single       \n",
              "2  Life Sciences  3                       2               Married      \n",
              "16                2                       1               Divorced     \n",
              "17                1                       2               Divorced     \n",
              "18                4                       4               Divorced     \n",
              "   MonthlyIncome NumCompaniesWorked WorkLifeBalance YearsAtCompany\n",
              "1  5993          8                  1                6            \n",
              "2  5130          1                  3               10            \n",
              "16 9980          1                  3               10            \n",
              "17 3298          0                  2                6            \n",
              "18 2935          1                  2                1            "
            ]
          },
          "metadata": {}
        }
      ]
    },
    {
      "cell_type": "code",
      "source": [],
      "metadata": {
        "id": "KTqooPSPYhEa"
      },
      "execution_count": null,
      "outputs": []
    }
  ]
}